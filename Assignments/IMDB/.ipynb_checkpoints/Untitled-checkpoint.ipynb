{
 "cells": [
  {
   "cell_type": "markdown",
   "metadata": {},
   "source": [
    "*Module 2 Final Project: IMDB Dataset*"
   ]
  },
  {
   "cell_type": "code",
   "execution_count": 2,
   "metadata": {},
   "outputs": [
    {
     "ename": "SyntaxError",
     "evalue": "invalid character in identifier (<ipython-input-2-433d93b9181f>, line 6)",
     "output_type": "error",
     "traceback": [
      "\u001b[0;36m  File \u001b[0;32m\"<ipython-input-2-433d93b9181f>\"\u001b[0;36m, line \u001b[0;32m6\u001b[0m\n\u001b[0;31m    with open(‘tmdb_5000_credits.csv’, ‘rb’) as f:\u001b[0m\n\u001b[0m                               ^\u001b[0m\n\u001b[0;31mSyntaxError\u001b[0m\u001b[0;31m:\u001b[0m invalid character in identifier\n"
     ]
    }
   ],
   "source": [
    "#Import Modules and CSV data\n",
    "\n",
    "import pandas\n",
    "import csv\n",
    "\n",
    "with open(‘tmdb_5000_credits.csv’, ‘rb’) as f:\n",
    "    reader = csv.reader(f)\n",
    "    for row in reader:\n",
    "    print row\n",
    "\n",
    "with open(‘tmdb_5000_movies.csv’, ‘rb’) as f:\n",
    "    reader = csv.reader(f)\n",
    "    for row in reader:\n",
    "    print row"
   ]
  },
  {
   "cell_type": "code",
   "execution_count": null,
   "metadata": {
    "collapsed": true
   },
   "outputs": [],
   "source": []
  }
 ],
 "metadata": {
  "kernelspec": {
   "display_name": "Python 3",
   "language": "python",
   "name": "python3"
  },
  "language_info": {
   "codemirror_mode": {
    "name": "ipython",
    "version": 3
   },
   "file_extension": ".py",
   "mimetype": "text/x-python",
   "name": "python",
   "nbconvert_exporter": "python",
   "pygments_lexer": "ipython3",
   "version": "3.6.3"
  }
 },
 "nbformat": 4,
 "nbformat_minor": 2
}
