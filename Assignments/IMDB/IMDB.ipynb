{
 "cells": [
  {
   "cell_type": "markdown",
   "metadata": {},
   "source": [
    "*Module 2 Final Project: IMDB Dataset*"
   ]
  },
  {
   "cell_type": "code",
   "execution_count": 16,
   "metadata": {},
   "outputs": [
    {
     "data": {
      "text/plain": [
       "'Avatar'"
      ]
     },
     "execution_count": 16,
     "metadata": {},
     "output_type": "execute_result"
    }
   ],
   "source": [
    "#Import Modules and CSV data\n",
    "\n",
    "import pandas as pd\n",
    "\n",
    "movies = pd.read_csv('tmdb_5000_movies.csv')\n",
    "\n",
    "credits = pd.read_csv('tmdb_5000_credits.csv')\n",
    "\n",
    "#movies.head()\n",
    "\n",
    "#credits.head()\n",
    "\n",
    "#movies.dtypes\n",
    "\n",
    "#budget                    int64\n",
    "#genres                   object\n",
    "#homepage                 object\n",
    "#id                        int64\n",
    "#keywords                 object\n",
    "#original_language        object\n",
    "#original_title           object\n",
    "#overview                 object\n",
    "#popularity              float64\n",
    "#production_companies     object\n",
    "#production_countries     object\n",
    "#release_date             object\n",
    "#revenue                   int64\n",
    "#runtime                 float64\n",
    "#spoken_languages         object\n",
    "#status                   object\n",
    "#tagline                  object\n",
    "#title                    object\n",
    "#vote_average            float64\n",
    "#vote_count                int64\n",
    "\n",
    "#credits.dtypes\n",
    "\n",
    "#movie_id     int64\n",
    "#title       object\n",
    "#cast        object\n",
    "#crew        object\n",
    "\n",
    "#credits[credits.movie_id==19995].title.values\n",
    "\n",
    "# .values will convert panda to numpy dataframe\n",
    "\n",
    "credits[credits.movie_id==19995].title.iloc[0]"
   ]
  },
  {
   "cell_type": "code",
   "execution_count": null,
   "metadata": {
    "collapsed": true
   },
   "outputs": [],
   "source": [
    "#credits.loc[credits['movie_id'] == [19995]]"
   ]
  },
  {
   "cell_type": "code",
   "execution_count": null,
   "metadata": {
    "collapsed": true
   },
   "outputs": [],
   "source": []
  }
 ],
 "metadata": {
  "kernelspec": {
   "display_name": "Python 3",
   "language": "python",
   "name": "python3"
  },
  "language_info": {
   "codemirror_mode": {
    "name": "ipython",
    "version": 3
   },
   "file_extension": ".py",
   "mimetype": "text/x-python",
   "name": "python",
   "nbconvert_exporter": "python",
   "pygments_lexer": "ipython3",
   "version": "3.6.3"
  }
 },
 "nbformat": 4,
 "nbformat_minor": 2
}
