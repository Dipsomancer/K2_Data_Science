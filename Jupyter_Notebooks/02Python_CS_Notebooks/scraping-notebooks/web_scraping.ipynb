{
 "cells": [
  {
   "cell_type": "markdown",
   "metadata": {},
   "source": [
    "# Python Web Scraping Tutorial using BeautifulSoup\n",
    "\n",
    "<p>When performing data science tasks, it’s common to want to use data found on the internet.  You’ll usually be able to access this data in <em>csv</em> format, or via an <a href=\"https://en.wikipedia.org/wiki/Application_programming_interface\">Application Programming Interface</a> (API).  However, there are times when the data you want can only be accessed as part of a web page.  In cases like this, you’ll want to use a technique called web scraping to get the data from the web page into a format you can work with in your analysis.</p>\n",
    "\n",
    "<p>In this tutorial, we’ll show you how to perform web scraping using <a href=\"https://www.python.org/downloads/release/python-350/\">Python 3</a> and the <a href=\"https://www.crummy.com/software/BeautifulSoup/\">BeautifulSoup</a> library.  We’ll be scraping weather forecasts from the <a href=\"http://www.weather.gov/\">National Weather Service</a>, and then analyzing them using the <a href=\"http://pandas.pydata.org/\">Pandas</a> library.</p>\n",
    "\n",
    "![nws](./images/nws.png)\n",
    "\n",
    "We'll be scraping weather forecasts from the National Weather Service site."
   ]
  },
  {
   "cell_type": "markdown",
   "metadata": {},
   "source": [
    "<h2 id=\"the-components-of-a-web-page\">The components of a web page</h2>\n",
    "<p>When we visit a web page, our web browser makes a request to a web server.  This request is called a <code class=\"highlighter-rouge\">GET</code> request, since we’re getting files from the server.  The server then sends back files that tell our browser how to render the page for us.  The files fall into a few main types:</p>\n",
    "<ul>\n",
    "  <li><a href=\"https://www.w3.org/TR/html/\">HTML</a> – contain the main content of the page.</li>\n",
    "  <li><a href=\"https://developer.mozilla.org/en-US/docs/Web/CSS\">CSS</a> – add styling to make the page look nicer.</li>\n",
    "  <li><a href=\"https://developer.mozilla.org/en-US/docs/Web/JavaScript\">JS</a> – Javascript files add interactivity to web pages.</li>\n",
    "  <li>Images – image formats, such as <a href=\"https://en.wikipedia.org/wiki/JPEG\">JPG</a> and <a href=\"https://en.wikipedia.org/wiki/Portable_Network_Graphics\">PNG</a> allow web pages to show pictures.</li>\n",
    "</ul>\n",
    "<p>After our browser receives all the files, it renders the page and displays it to us.  There’s a lot that happens behind the scenes to render a page nicely, but we don’t need to worry about most of it when we’re web scraping.  When we perform web scraping, we’re interested in the main content of the web page, so we look at the HTML.</p>"
   ]
  },
  {
   "cell_type": "markdown",
   "metadata": {
    "collapsed": true
   },
   "source": [
    "<h2 id=\"html\">HTML</h2>\n",
    "<p><a href=\"https://en.wikipedia.org/wiki/HTML\">HyperText Markup Language</a>(HTML) is a language that web pages are created in.  HTML isn’t a programming language, like Python – instead, it’s a markup language that tells a browser how to layout content.  HTML allows you to do similar things to what you do in a word processor like Microsoft Word – make text bold, create paragraphs, and so on.  Because HTML isn’t a programming language, it isn’t nearly as complex as Python.</p>\n",
    "<p>Let’s take a quick tour through HTML so we know enough to scrape effectively.  HTML consists of elements called tags.  The most basic tag is the <code class=\"highlighter-rouge\"><span class=\"nt\">&lt;html&gt;</span></code> tag.  This tag tells the web browser that everything inside of it is HTML.  We can make a simple HTML document just using this tag:</p>"
   ]
  },
  {
   "cell_type": "code",
   "execution_count": null,
   "metadata": {
    "collapsed": true
   },
   "outputs": [],
   "source": [
    "<html>\n",
    "</html>"
   ]
  },
  {
   "cell_type": "markdown",
   "metadata": {},
   "source": [
    "<p>We haven’t added any content to our page yet, so if we viewed our HTML document in a web browser, we wouldn’t see anything:</p>"
   ]
  },
  {
   "cell_type": "markdown",
   "metadata": {},
   "source": [
    " <div style=\"border: 1px solid black;min-height: 25px;padding: 10px;margin-bottom:15px;margin-top:15px;\">\n",
    "</div>"
   ]
  },
  {
   "cell_type": "markdown",
   "metadata": {},
   "source": [
    "<p>Right inside an <code class=\"highlighter-rouge\">html</code> tag, we put two other tags, the <code class=\"highlighter-rouge\">head</code> tag, and the <code class=\"highlighter-rouge\">body</code> tag.  The main content of the web page goes into the <code class=\"highlighter-rouge\">body</code> tag.  The <code class=\"highlighter-rouge\">head</code> tag contains data about the title of the page, and other information that generally isn’t useful in web scraping:</p>"
   ]
  },
  {
   "cell_type": "code",
   "execution_count": null,
   "metadata": {
    "collapsed": true
   },
   "outputs": [],
   "source": [
    "<html>\n",
    "    <head>\n",
    "    </head>\n",
    "    <body>\n",
    "    </body>\n",
    "</html>"
   ]
  },
  {
   "cell_type": "markdown",
   "metadata": {},
   "source": [
    "<p>We still haven’t added any content to our page (that goes inside the <code class=\"highlighter-rouge\">body</code> tag), so we again won’t see anything:</p>"
   ]
  },
  {
   "cell_type": "markdown",
   "metadata": {},
   "source": [
    "<div style=\"border: 1px solid black;min-height: 25px;padding: 10px;margin-bottom:15px;margin-top:15px;\">\n",
    "</div>"
   ]
  },
  {
   "cell_type": "markdown",
   "metadata": {},
   "source": [
    "<p>You may have noticed above that we put the <code class=\"highlighter-rouge\">head</code> and <code class=\"highlighter-rouge\">body</code> tags inside the <code class=\"highlighter-rouge\">html</code> tag.  In HTML, tags are nested, and can go inside other tags.</p>\n",
    "<p>We’ll now add our first content to the page, in the form of the <code class=\"highlighter-rouge\">p</code> tag.  The <code class=\"highlighter-rouge\">p</code> tag defines a paragraph, and any text inside the tag is shown as a separate paragraph:</p>"
   ]
  },
  {
   "cell_type": "code",
   "execution_count": null,
   "metadata": {
    "collapsed": true
   },
   "outputs": [],
   "source": [
    "<html>\n",
    "    <head>\n",
    "    </head>\n",
    "    <body>\n",
    "        <p>\n",
    "            Here's a paragraph of text!\n",
    "        </p>\n",
    "        <p>\n",
    "            Here's a second paragraph of text!\n",
    "        </p>\n",
    "    </body>\n",
    "</html>"
   ]
  },
  {
   "cell_type": "markdown",
   "metadata": {},
   "source": [
    "<p>Here’s how this will look:</p>"
   ]
  },
  {
   "cell_type": "markdown",
   "metadata": {},
   "source": [
    "<div style=\"border: 1px solid black;min-height: 25px;padding: 10px;margin-bottom:15px;margin-top:15px;\">\n",
    "    <p>\n",
    "        Here's a paragraph of text!\n",
    "    </p>\n",
    "    <p>\n",
    "        Here's a second paragraph of text!\n",
    "    </p>\n",
    "</div>"
   ]
  },
  {
   "cell_type": "markdown",
   "metadata": {},
   "source": [
    "<p>Tags have commonly used names that depend on their position in relation to other tags:</p>\n",
    "<ul>\n",
    "  <li><code class=\"highlighter-rouge\">child</code> – a child is a tag inside another tag.  So the two <code class=\"highlighter-rouge\">p</code> tags above are both children of the <code class=\"highlighter-rouge\">body</code> tag.</li>\n",
    "  <li><code class=\"highlighter-rouge\">parent</code> – a parent is the tag another tag is inside.  Above, the <code class=\"highlighter-rouge\">html</code> tag is the parent of the <code class=\"highlighter-rouge\">body</code> tag.</li>\n",
    "  <li><code class=\"highlighter-rouge\">sibiling</code> – a sibiling is a tag that is nested inside the same parent as another tag.  For example, <code class=\"highlighter-rouge\">head</code> and <code class=\"highlighter-rouge\">body</code> are siblings, since they’re both inside <code class=\"highlighter-rouge\">html</code>.  Both <code class=\"highlighter-rouge\">p</code> tags are siblings, since they’re both inside <code class=\"highlighter-rouge\">body</code>.</li>\n",
    "</ul>\n",
    "<p>We can also add properties to HTML tags that change their behavior:</p>"
   ]
  },
  {
   "cell_type": "code",
   "execution_count": 5,
   "metadata": {},
   "outputs": [],
   "source": [
    "<html>\n",
    "    <head>\n",
    "    </head>\n",
    "    <body>\n",
    "        <p>\n",
    "            Here's a paragraph of text!\n",
    "            <a href=\"https://www.codecademy.com\">Learn Programming Online</a>\n",
    "        </p>\n",
    "        <p>\n",
    "            Here's a second paragraph of text!\n",
    "            <a href=\"https://www.python.org\">Python</a>\n",
    "        </p>\n",
    "    </body>\n",
    "</html>"
   ]
  },
  {
   "cell_type": "markdown",
   "metadata": {},
   "source": [
    "<p>Here’s how this will look:</p>"
   ]
  },
  {
   "cell_type": "markdown",
   "metadata": {},
   "source": [
    "<div style=\"border: 1px solid black;min-height: 25px;padding: 10px;margin-bottom:15px;margin-top:15px;\">\n",
    "    <p>\n",
    "        Here's a paragraph of text!\n",
    "        <a href=\"https://www.codecademy.com\">Learn Programming Online</a>\n",
    "    </p>\n",
    "    <p>\n",
    "        Here's a second paragraph of text!\n",
    "        <a href=\"https://www.python.org\">Python</a>\n",
    "    </p>\n",
    "</div>"
   ]
  },
  {
   "cell_type": "markdown",
   "metadata": {},
   "source": [
    "<p>In the above example, we added two <code class=\"highlighter-rouge\">a</code> tags.  <code class=\"highlighter-rouge\">a</code> tags are links, and tell the browser to render a link to another web page.  The <code class=\"highlighter-rouge\">href</code> property of the tag determines where the link goes.</p>\n",
    "<p><code class=\"highlighter-rouge\">a</code> and <code class=\"highlighter-rouge\">p</code> are extremely common html tags.  Here are a few others:</p>\n",
    "<ul>\n",
    "  <li><code class=\"highlighter-rouge\">div</code> – indicates a division, or area, of the page.</li>\n",
    "  <li><code class=\"highlighter-rouge\">b</code> – bolds any text inside.</li>\n",
    "  <li><code class=\"highlighter-rouge\">i</code> – italicizes any text inside.</li>\n",
    "  <li><code class=\"highlighter-rouge\">table</code> – creates a table.</li>\n",
    "  <li><code class=\"highlighter-rouge\">form</code> – creates an input form.</li>\n",
    "</ul>\n",
    "<p>For a full list of tags, look <a href=\"https://developer.mozilla.org/en-US/docs/Web/HTML/Element\">here</a>.</p>\n",
    "<p>Before we move into actual web scraping, let’s learn about the <code class=\"highlighter-rouge\">class</code> and <code class=\"highlighter-rouge\">id</code> properties.  These special properties give HTML elements names, and make them easier to interact with when we’re scraping.  One element can have multiple classes, and a class can be shared between elements.  Each element can only have one id, and an id can only be used once on a page.  Classes and ids are optional, and not all elements will have them.</p>\n",
    "<p>We can add classes and ids to our example:</p>"
   ]
  },
  {
   "cell_type": "code",
   "execution_count": null,
   "metadata": {
    "collapsed": true
   },
   "outputs": [],
   "source": [
    "<html>\n",
    "    <head>\n",
    "    </head>\n",
    "    <body>\n",
    "        <p class=\"bold-paragraph\">\n",
    "            Here's a paragraph of text!\n",
    "            <a href=\"https://www.codecademy.com\" id=\"learn-link\">Learn Programming Online</a>\n",
    "        </p>\n",
    "        <p class=\"bold-paragraph extra-large\">\n",
    "            Here's a second paragraph of text!\n",
    "            <a href=\"https://www.python.org\" class=\"extra-large\">Python</a>\n",
    "        </p>\n",
    "    </body>\n",
    "</html>"
   ]
  },
  {
   "cell_type": "markdown",
   "metadata": {},
   "source": [
    "<p>Here’s how this will look:</p>"
   ]
  },
  {
   "cell_type": "markdown",
   "metadata": {},
   "source": [
    "<div style=\"border: 1px solid black;min-height: 25px;padding: 10px;margin-bottom:15px;margin-top:15px;\">\n",
    "    <p class=\"bold-paragraph\">\n",
    "        Here's a paragraph of text!\n",
    "        <a href=\"https://www.codecademy.com\" id=\"learn-link\">Learn Programming Online</a>\n",
    "    </p>\n",
    "    <p class=\"bold-paragraph extra-large\">\n",
    "        Here's a second paragraph of text!\n",
    "        <a href=\"https://www.python.org\" class=\"extra-large\">Python</a>\n",
    "    </p>\n",
    "</div>"
   ]
  },
  {
   "cell_type": "markdown",
   "metadata": {},
   "source": [
    "<p>As you can see, adding classes and ids doesn’t change how the tags are rendered at all.</p>"
   ]
  },
  {
   "cell_type": "markdown",
   "metadata": {},
   "source": [
    "<h2 id=\"the-requests-library\">The requests library</h2>\n",
    "<p>The first thing we’ll need to do to scrape a web page is to download the page.  We can download pages using the Python <a href=\"http://docs.python-requests.org/en/master/\">requests</a> library.  The requests library will make a <code class=\"highlighter-rouge\">GET</code> request to a web server, which will download the HTML contents of a given web page for us.  There are several different types of requests we can make using <code class=\"highlighter-rouge\">requests</code>, of which <code class=\"highlighter-rouge\">GET</code> is just one. \n",
    "<p>Let’s try downloading a simple sample website, <code class=\"highlighter-rouge\">http://www.k2datascience.com/web-scraping-pages/simple</code>.  We’ll need to first download it using the <a href=\"http://docs.python-requests.org/en/master/user/quickstart/#make-a-request\">requests.get</a> method.</p>"
   ]
  },
  {
   "cell_type": "code",
   "execution_count": 8,
   "metadata": {},
   "outputs": [
    {
     "data": {
      "text/plain": [
       "<Response [200]>"
      ]
     },
     "execution_count": 8,
     "metadata": {},
     "output_type": "execute_result"
    }
   ],
   "source": [
    "import requests\n",
    "\n",
    "page = requests.get(\"http://www.k2datascience.com/web-scraping-pages/simple\")\n",
    "page"
   ]
  },
  {
   "cell_type": "markdown",
   "metadata": {},
   "source": [
    "<p>After running our request, we get a <a href=\"http://docs.python-requests.org/en/master/user/quickstart/#response-content\">Response</a> object.  This object has a <code class=\"highlighter-rouge\">status_code</code> property, which indicates if the page was downloaded successfully:</p>"
   ]
  },
  {
   "cell_type": "code",
   "execution_count": 9,
   "metadata": {},
   "outputs": [
    {
     "data": {
      "text/plain": [
       "200"
      ]
     },
     "execution_count": 9,
     "metadata": {},
     "output_type": "execute_result"
    }
   ],
   "source": [
    "page.status_code"
   ]
  },
  {
   "cell_type": "markdown",
   "metadata": {},
   "source": [
    "<p>A <code class=\"highlighter-rouge\">status_code</code> of <code class=\"highlighter-rouge\">200</code> means that the page downloaded successfully.  We won’t fully dive into status codes here, but a status code starting with a <code class=\"highlighter-rouge\">2</code> generally indicates success, and a code starting with a <code class=\"highlighter-rouge\">4</code> or a <code class=\"highlighter-rouge\">5</code> indicates an error.</p>\n",
    "<p>We can print out the HTML content of the page using the <code class=\"highlighter-rouge\">content</code> property:</p>"
   ]
  },
  {
   "cell_type": "code",
   "execution_count": 10,
   "metadata": {},
   "outputs": [
    {
     "data": {
      "text/plain": [
       "b'<!DOCTYPE html>\\n<html>\\n <head>\\n  <title>\\n   A simple example page\\n  </title>\\n </head>\\n <body>\\n  <p>\\n   Here is some simple content for this page.\\n  </p>\\n </body>\\n</html>\\n'"
      ]
     },
     "execution_count": 10,
     "metadata": {},
     "output_type": "execute_result"
    }
   ],
   "source": [
    "page.content"
   ]
  },
  {
   "cell_type": "markdown",
   "metadata": {},
   "source": [
    "<h2 id=\"parsing-a-page-with-beautifulsoup\">Parsing a page with BeautifulSoup</h2>\n",
    "<p>As you can see above, we now have downloaded an HTML document.</p>\n",
    "<p>We can use the <a href=\"https://www.crummy.com/software/BeautifulSoup/\">BeautifulSoup</a> library to parse this document, and extract the text from the <code class=\"highlighter-rouge\">p</code> tag.  We first have to import the library, and create an instance of the <code class=\"highlighter-rouge\">BeautifulSoup</code> class to parse our document:</p>"
   ]
  },
  {
   "cell_type": "code",
   "execution_count": 11,
   "metadata": {
    "collapsed": true
   },
   "outputs": [],
   "source": [
    "from bs4 import BeautifulSoup\n",
    "soup = BeautifulSoup(page.content, 'html.parser')"
   ]
  },
  {
   "cell_type": "markdown",
   "metadata": {},
   "source": [
    "<p>We can now print out the HTML content of the page, formatted nicely, using the <code class=\"highlighter-rouge\">prettify</code> method on the <code class=\"highlighter-rouge\">BeautifulSoup</code> object:</p>"
   ]
  },
  {
   "cell_type": "code",
   "execution_count": 12,
   "metadata": {},
   "outputs": [
    {
     "name": "stdout",
     "output_type": "stream",
     "text": [
      "<!DOCTYPE html>\n",
      "<html>\n",
      " <head>\n",
      "  <title>\n",
      "   A simple example page\n",
      "  </title>\n",
      " </head>\n",
      " <body>\n",
      "  <p>\n",
      "   Here is some simple content for this page.\n",
      "  </p>\n",
      " </body>\n",
      "</html>\n",
      "\n"
     ]
    }
   ],
   "source": [
    "print(soup.prettify())"
   ]
  },
  {
   "cell_type": "markdown",
   "metadata": {},
   "source": [
    "<p>As all the tags are nested, we can move through the structure one level at a time.  We can first select all the elements at the top level of the page using the <code class=\"highlighter-rouge\">children</code> property of <code class=\"highlighter-rouge\">soup</code>.  Note that <code class=\"highlighter-rouge\">children</code> returns a list generator, so we need to call the <code class=\"highlighter-rouge\">list</code> function on it:</p>"
   ]
  },
  {
   "cell_type": "code",
   "execution_count": 14,
   "metadata": {},
   "outputs": [
    {
     "data": {
      "text/plain": [
       "['html', '\\n', <html>\n",
       " <head>\n",
       " <title>\n",
       "    A simple example page\n",
       "   </title>\n",
       " </head>\n",
       " <body>\n",
       " <p>\n",
       "    Here is some simple content for this page.\n",
       "   </p>\n",
       " </body>\n",
       " </html>, '\\n']"
      ]
     },
     "execution_count": 14,
     "metadata": {},
     "output_type": "execute_result"
    }
   ],
   "source": [
    "list(soup.children)"
   ]
  },
  {
   "cell_type": "markdown",
   "metadata": {},
   "source": [
    "<p>The above tells us that there are two tags at the top level of the page – the initial <code class=\"highlighter-rouge\"><span class=\"cp\">&lt;!DOCTYPE html&gt;</span></code> tag, and the <code class=\"highlighter-rouge\"><span class=\"nt\">&lt;html&gt;</span></code> tag.  There is a newline character (<code class=\"highlighter-rouge\">\\n</code>) in the list as well.  Let’s see what the type of each element in the list is:</p>"
   ]
  },
  {
   "cell_type": "code",
   "execution_count": 15,
   "metadata": {},
   "outputs": [
    {
     "data": {
      "text/plain": [
       "[bs4.element.Doctype,\n",
       " bs4.element.NavigableString,\n",
       " bs4.element.Tag,\n",
       " bs4.element.NavigableString]"
      ]
     },
     "execution_count": 15,
     "metadata": {},
     "output_type": "execute_result"
    }
   ],
   "source": [
    "[type(item) for item in list(soup.children)] "
   ]
  },
  {
   "cell_type": "markdown",
   "metadata": {},
   "source": [
    "<p>As you can see, all of the items are <code class=\"highlighter-rouge\">BeautifulSoup</code> objects.  The first is a <code class=\"highlighter-rouge\">Doctype</code> object, which contains information about the type of the document.  The second is a <code class=\"highlighter-rouge\">NavigableString</code>, which represents text found in the HTML document.  The final item is a <code class=\"highlighter-rouge\">Tag</code> object, which contains other nested tags.  The most important object type, and the one we’ll deal with most often, is the <code class=\"highlighter-rouge\">Tag</code> object.</p>\n",
    "<p>The <code class=\"highlighter-rouge\">Tag</code> object allows us to navigate through an HTML document, and extract other tags and text.  You can learn more about the various <code class=\"highlighter-rouge\">BeautifulSoup</code> objects <a href=\"https://www.crummy.com/software/BeautifulSoup/bs4/doc/#kinds-of-objects\">here</a>.</p>\n",
    "<p>We can now select the <code class=\"highlighter-rouge\">html</code> tag and its children by taking the third item in the list:</p>"
   ]
  },
  {
   "cell_type": "code",
   "execution_count": 17,
   "metadata": {
    "collapsed": true
   },
   "outputs": [],
   "source": [
    "html = list(soup.children)[2]"
   ]
  },
  {
   "cell_type": "markdown",
   "metadata": {},
   "source": [
    "<p>Each item in the list returned by the <code class=\"highlighter-rouge\">children</code> property is also a <code class=\"highlighter-rouge\">BeautifulSoup</code> object, so we can also call the <code class=\"highlighter-rouge\">children</code> method on <code class=\"highlighter-rouge\">html</code>.</p>\n",
    "<p>Now, we can find the children inside the <code class=\"highlighter-rouge\">html</code> tag:</p>"
   ]
  },
  {
   "cell_type": "code",
   "execution_count": 19,
   "metadata": {},
   "outputs": [
    {
     "data": {
      "text/plain": [
       "['\\n', <head>\n",
       " <title>\n",
       "    A simple example page\n",
       "   </title>\n",
       " </head>, '\\n', <body>\n",
       " <p>\n",
       "    Here is some simple content for this page.\n",
       "   </p>\n",
       " </body>, '\\n']"
      ]
     },
     "execution_count": 19,
     "metadata": {},
     "output_type": "execute_result"
    }
   ],
   "source": [
    "list(html.children)"
   ]
  },
  {
   "cell_type": "markdown",
   "metadata": {},
   "source": [
    "<p>As you can see above, there are two tags here, <code class=\"highlighter-rouge\">head</code>, and <code class=\"highlighter-rouge\">body</code>.  We want to extract the text inside the <code class=\"highlighter-rouge\">p</code> tag, so we’ll dive into the body:</p>"
   ]
  },
  {
   "cell_type": "code",
   "execution_count": 21,
   "metadata": {
    "collapsed": true
   },
   "outputs": [],
   "source": [
    "body = list(html.children)[3]"
   ]
  },
  {
   "cell_type": "markdown",
   "metadata": {},
   "source": [
    "<p>Now, we can get the <code class=\"highlighter-rouge\">p</code> tag by finding the children of the body tag:</p>"
   ]
  },
  {
   "cell_type": "code",
   "execution_count": 22,
   "metadata": {},
   "outputs": [
    {
     "data": {
      "text/plain": [
       "['\\n', <p>\n",
       "    Here is some simple content for this page.\n",
       "   </p>, '\\n']"
      ]
     },
     "execution_count": 22,
     "metadata": {},
     "output_type": "execute_result"
    }
   ],
   "source": [
    "list(body.children)"
   ]
  },
  {
   "cell_type": "markdown",
   "metadata": {},
   "source": [
    "<p>We can now isolate the p tag:</p>"
   ]
  },
  {
   "cell_type": "code",
   "execution_count": 23,
   "metadata": {
    "collapsed": true
   },
   "outputs": [],
   "source": [
    "p = list(body.children)[1]"
   ]
  },
  {
   "cell_type": "markdown",
   "metadata": {},
   "source": [
    "<p>Once we’ve isolated the tag, we can use the <code class=\"highlighter-rouge\">get_text</code> method to extract all of the text inside the tag:</p>"
   ]
  },
  {
   "cell_type": "code",
   "execution_count": 25,
   "metadata": {},
   "outputs": [
    {
     "data": {
      "text/plain": [
       "'\\n   Here is some simple content for this page.\\n  '"
      ]
     },
     "execution_count": 25,
     "metadata": {},
     "output_type": "execute_result"
    }
   ],
   "source": [
    "p.get_text()"
   ]
  },
  {
   "cell_type": "markdown",
   "metadata": {},
   "source": [
    "<h2 id=\"finding-all-instances-of-a-tag-at-once\">Finding all instances of a tag at once</h2>\n",
    "<p>What we did above was useful for figuring out how to navigate a page, but it took a lot of commands to do something fairly simple.  If we want to extract a single tag, we can instead use the <code class=\"highlighter-rouge\">find_all</code> method, which will find all the instances of a tag on a page.</p>"
   ]
  },
  {
   "cell_type": "code",
   "execution_count": 26,
   "metadata": {},
   "outputs": [
    {
     "data": {
      "text/plain": [
       "[<p>\n",
       "    Here is some simple content for this page.\n",
       "   </p>]"
      ]
     },
     "execution_count": 26,
     "metadata": {},
     "output_type": "execute_result"
    }
   ],
   "source": [
    "soup = BeautifulSoup(page.content, 'html.parser')\n",
    "soup.find_all('p')"
   ]
  },
  {
   "cell_type": "markdown",
   "metadata": {},
   "source": [
    "<p>Note that <code class=\"highlighter-rouge\">find_all</code> returns a list, so we’ll have to loop through, or use list indexing, it to extract text:</p>"
   ]
  },
  {
   "cell_type": "code",
   "execution_count": 28,
   "metadata": {},
   "outputs": [
    {
     "data": {
      "text/plain": [
       "'\\n   Here is some simple content for this page.\\n  '"
      ]
     },
     "execution_count": 28,
     "metadata": {},
     "output_type": "execute_result"
    }
   ],
   "source": [
    "soup.find_all('p')[0].get_text()"
   ]
  },
  {
   "cell_type": "markdown",
   "metadata": {},
   "source": [
    "<p>If you instead only want to find the first instance of a tag, you can use the <code class=\"highlighter-rouge\">find</code> method, which will return a single <code class=\"highlighter-rouge\">BeautifulSoup</code> object:</p>"
   ]
  },
  {
   "cell_type": "code",
   "execution_count": 29,
   "metadata": {},
   "outputs": [
    {
     "data": {
      "text/plain": [
       "<p>\n",
       "   Here is some simple content for this page.\n",
       "  </p>"
      ]
     },
     "execution_count": 29,
     "metadata": {},
     "output_type": "execute_result"
    }
   ],
   "source": [
    "soup.find('p')"
   ]
  },
  {
   "cell_type": "markdown",
   "metadata": {},
   "source": [
    "<h2 id=\"searching-for-tags-by-class-and-id\">Searching for tags by class and id</h2>\n",
    "<p>We introduced classes and ids earlier, but it probably wasn’t clear why they were useful.  Classes and ids are used by CSS to determine which HTML elements to apply certain styles to.  We can also use them when scraping to specify specific elements we want to scrape.  To illustrate this principle, we’ll work with the following page:</p>"
   ]
  },
  {
   "cell_type": "code",
   "execution_count": null,
   "metadata": {
    "collapsed": true
   },
   "outputs": [],
   "source": [
    "<html>\n",
    "    <head>\n",
    "        <title>A simple example page</title>\n",
    "    </head>\n",
    "    <body>\n",
    "        <div>\n",
    "            <p class=\"inner-text first-item\" id=\"first\">\n",
    "                First paragraph.\n",
    "            </p>\n",
    "            <p class=\"inner-text\">\n",
    "                Second paragraph.\n",
    "            </p>\n",
    "        </div>\n",
    "        <p class=\"outer-text first-item\" id=\"second\">\n",
    "            <b>\n",
    "                First outer paragraph.\n",
    "            </b>\n",
    "        </p>\n",
    "        <p class=\"outer-text\">\n",
    "            <b>\n",
    "                Second outer paragraph.\n",
    "            </b>\n",
    "        </p>\n",
    "    </body>\n",
    "</html>"
   ]
  },
  {
   "cell_type": "markdown",
   "metadata": {},
   "source": [
    "<p>We can access the above document at the URL <code class=\"highlighter-rouge\">http://www.k2datascience.com/web-scraping-pages/ids_and_classes</code>.  Let’s first download the page and create a <code class=\"highlighter-rouge\">BeautifulSoup</code> object:</p>"
   ]
  },
  {
   "cell_type": "code",
   "execution_count": 46,
   "metadata": {},
   "outputs": [
    {
     "data": {
      "text/plain": [
       "<html>\n",
       "<head>\n",
       "<title>A simple example page</title>\n",
       "</head>\n",
       "<body>\n",
       "<div>\n",
       "<p class=\"inner-text first-item\" id=\"first\">\n",
       "                First paragraph.\n",
       "            </p>\n",
       "<p class=\"inner-text\">\n",
       "                Second paragraph.\n",
       "            </p>\n",
       "</div>\n",
       "<p class=\"outer-text first-item\" id=\"second\">\n",
       "<b>\n",
       "                First outer paragraph.\n",
       "            </b>\n",
       "</p>\n",
       "<p class=\"outer-text\">\n",
       "<b>\n",
       "                Second outer paragraph.\n",
       "            </b>\n",
       "</p>\n",
       "</body>\n",
       "</html>"
      ]
     },
     "execution_count": 46,
     "metadata": {},
     "output_type": "execute_result"
    }
   ],
   "source": [
    "page = requests.get(\"http://www.k2datascience.com/web-scraping-pages/ids_and_classes\")\n",
    "soup = BeautifulSoup(page.content, 'html.parser')\n",
    "soup"
   ]
  },
  {
   "cell_type": "markdown",
   "metadata": {},
   "source": [
    "<p>Now, we can use the <code class=\"highlighter-rouge\">find_all</code> method to search for items by class or by id.  In the below example, we’ll search for any <code class=\"highlighter-rouge\">p</code> tag that has the class <code class=\"highlighter-rouge\">outer-text</code>:</p>"
   ]
  },
  {
   "cell_type": "code",
   "execution_count": 31,
   "metadata": {},
   "outputs": [
    {
     "data": {
      "text/plain": [
       "[<p class=\"outer-text first-item\" id=\"second\">\n",
       " <b>\n",
       "                 First outer paragraph.\n",
       "             </b>\n",
       " </p>, <p class=\"outer-text\">\n",
       " <b>\n",
       "                 Second outer paragraph.\n",
       "             </b>\n",
       " </p>]"
      ]
     },
     "execution_count": 31,
     "metadata": {},
     "output_type": "execute_result"
    }
   ],
   "source": [
    "soup.find_all('p', class_='outer-text')"
   ]
  },
  {
   "cell_type": "markdown",
   "metadata": {},
   "source": [
    "<p>In the below example, we’ll look for any tag that has the class <code class=\"highlighter-rouge\">outer-text</code>:</p>"
   ]
  },
  {
   "cell_type": "code",
   "execution_count": 32,
   "metadata": {},
   "outputs": [
    {
     "data": {
      "text/plain": [
       "[<p class=\"outer-text first-item\" id=\"second\">\n",
       " <b>\n",
       "                 First outer paragraph.\n",
       "             </b>\n",
       " </p>, <p class=\"outer-text\">\n",
       " <b>\n",
       "                 Second outer paragraph.\n",
       "             </b>\n",
       " </p>]"
      ]
     },
     "execution_count": 32,
     "metadata": {},
     "output_type": "execute_result"
    }
   ],
   "source": [
    "soup.find_all(class_=\"outer-text\")"
   ]
  },
  {
   "cell_type": "markdown",
   "metadata": {},
   "source": [
    "<p>We can also search for elements by id:</p>"
   ]
  },
  {
   "cell_type": "code",
   "execution_count": 33,
   "metadata": {},
   "outputs": [
    {
     "data": {
      "text/plain": [
       "[<p class=\"inner-text first-item\" id=\"first\">\n",
       "                 First paragraph.\n",
       "             </p>]"
      ]
     },
     "execution_count": 33,
     "metadata": {},
     "output_type": "execute_result"
    }
   ],
   "source": [
    "soup.find_all(id=\"first\")"
   ]
  },
  {
   "cell_type": "markdown",
   "metadata": {},
   "source": [
    "<h2 id=\"using-css-selectors\">Using CSS Selectors</h2>\n",
    "<p>You can also search for items using <a href=\"https://developer.mozilla.org/en-US/docs/Web/Guide/CSS/Getting_started/Selectors\">CSS selectors</a>.  These selectors are how the CSS language allows developers to specify HTML tags to style.  Here are some examples:</p>\n",
    "<ul>\n",
    "  <li><code class=\"highlighter-rouge\">p a</code> – finds all <code class=\"highlighter-rouge\">a</code> tags inside of a <code class=\"highlighter-rouge\">p</code> tag.</li>\n",
    "  <li><code class=\"highlighter-rouge\">body p a</code> – finds all <code class=\"highlighter-rouge\">a</code> tags inside of a <code class=\"highlighter-rouge\">p</code> tag inside of a <code class=\"highlighter-rouge\">body</code> tag.</li>\n",
    "  <li><code class=\"highlighter-rouge\">html body</code> – finds all <code class=\"highlighter-rouge\">body</code> tags inside of an <code class=\"highlighter-rouge\">html</code> tag.</li>\n",
    "  <li><code class=\"highlighter-rouge\">p.outer-text</code> – finds all <code class=\"highlighter-rouge\">p</code> tags with a class of <code class=\"highlighter-rouge\">outer-text</code>.</li>\n",
    "  <li><code class=\"highlighter-rouge\">p#first</code> – finds all <code class=\"highlighter-rouge\">p</code> tags with an id of <code class=\"highlighter-rouge\">first</code>.</li>\n",
    "  <li><code class=\"highlighter-rouge\">body p.outer-text</code> – finds any <code class=\"highlighter-rouge\">p</code> tags with a class of <code class=\"highlighter-rouge\">outer-text</code> inside of a <code class=\"highlighter-rouge\">body</code> tag.</li>\n",
    "</ul>\n",
    "<p>You can learn more about CSS selectors <a href=\"https://developer.mozilla.org/en-US/docs/Web/Guide/CSS/Getting_started/Selectors\">here</a>.</p>\n",
    "<p><code class=\"highlighter-rouge\">BeautifulSoup</code> objects support searching a page via CSS selectors using the <code class=\"highlighter-rouge\">select</code> method.  We can use CSS selectors to find all the <code class=\"highlighter-rouge\">p</code> tags in our page that are inside of a <code class=\"highlighter-rouge\">div</code> like this:</p>"
   ]
  },
  {
   "cell_type": "code",
   "execution_count": 34,
   "metadata": {},
   "outputs": [
    {
     "data": {
      "text/plain": [
       "[<p class=\"inner-text first-item\" id=\"first\">\n",
       "                 First paragraph.\n",
       "             </p>, <p class=\"inner-text\">\n",
       "                 Second paragraph.\n",
       "             </p>]"
      ]
     },
     "execution_count": 34,
     "metadata": {},
     "output_type": "execute_result"
    }
   ],
   "source": [
    "soup.select(\"div p\")"
   ]
  },
  {
   "cell_type": "markdown",
   "metadata": {},
   "source": [
    "<p>Note that the <code class=\"highlighter-rouge\">select</code> method above returns a list of <code class=\"highlighter-rouge\">BeautifulSoup</code> objects, just like <code class=\"highlighter-rouge\">find</code> and <code class=\"highlighter-rouge\">find_all</code>.</p>"
   ]
  },
  {
   "cell_type": "markdown",
   "metadata": {},
   "source": [
    "<h2 id=\"downloading-weather-data\">Downloading weather data</h2>\n",
    "<p>We now know enough to proceed with extracting information about the local weather from the National Weather Service website.  The first step is to find the page we want to scrape.  We’ll extract weather information about downtown San Francisco from <a href=\"http://forecast.weather.gov/MapClick.php?lat=37.7772&amp;lon=-122.4168\">this page</a>.</p>\n",
    "![extended forecast](./images/extended_forecast.png)\n",
    "<p>As you can see from the image, the page has information about the extended forecast for the next week, including time of day, temperature, and a brief description of the conditions.</p>"
   ]
  },
  {
   "cell_type": "markdown",
   "metadata": {},
   "source": [
    "<h2 id=\"exploring-page-structure-with-chrome-devtools\">Exploring page structure with Chrome DevTools</h2>\n",
    "<p>The first thing we’ll need to do is inspect the page using <a href=\"https://developer.chrome.com/devtools\">Chrome Devtools</a>.  If you’re using another browser, <a href=\"https://developer.mozilla.org/en-US/docs/Tools/Web_Console/Opening_the_Web_Console\">Firefox</a> and <a href=\"https://developer.apple.com/safari/tools/\">Safari</a> have equivalents.  It’s recommended to use Chrome though.</p>\n",
    "<p>You can start the developer tools in Chrome by clicking <code class=\"highlighter-rouge\">View -&gt; Developer -&gt; Developer Tools</code>.  You should end up with a panel at the bottom of the browser like what you see below.  Make sure the <code class=\"highlighter-rouge\">Elements</code> panel is highlighted:</p>\n",
    "![dev tools](./images/devtools.png)\n",
    "<p>The elements panel will show you all the HTML tags on the page, and let you navigate through them.  It’s a really handy feature!</p>\n",
    "<p>By right clicking on the page near where it says “Extended Forecast”, then clicking “Inspect”, we’ll open up the tag that contains the text “Extended Forecast” in the elements panel:</p>\n",
    "![ex selected](./images/ex_selected.png)\n",
    "<p>We can then scroll up in the elements panel to find the “outermost” element that contains all of the text that corresponds to the extended forecasts.  In this case, it’s a <code class=\"highlighter-rouge\">div</code> tag with the id <code class=\"highlighter-rouge\">seven-day-forecast</code>:</p>\n",
    "![div](./images/div.png)\n",
    "<p>If you click around on the console, and explore the div, you’ll discover that each forecast item (like “Tonight”, “Thursday”, and “Thursday Night”) is contained in a <code class=\"highlighter-rouge\">div</code> with the class <code class=\"highlighter-rouge\">tombstone-container</code>.</p>\n",
    "<p>We now know enough to download the page and start parsing it.  In the below code, we:</p>\n",
    "<ul>\n",
    "  <li>Download the web page containing the forecast.</li>\n",
    "  <li>Create a <code class=\"highlighter-rouge\">BeautifulSoup</code> class to parse the page.</li>\n",
    "  <li>Find the <code class=\"highlighter-rouge\">div</code> with id <code class=\"highlighter-rouge\">seven-day-forecast</code>, and assign to <code class=\"highlighter-rouge\">seven_day</code></li>\n",
    "  <li>Inside <code class=\"highlighter-rouge\">seven_day</code>, find each individual forecast item.</li>\n",
    "  <li>Extract and print the first forecast item.</li>\n",
    "</ul>"
   ]
  },
  {
   "cell_type": "code",
   "execution_count": 35,
   "metadata": {},
   "outputs": [
    {
     "name": "stdout",
     "output_type": "stream",
     "text": [
      "<div class=\"tombstone-container\">\n",
      " <p class=\"period-name\">\n",
      "  Today\n",
      "  <br>\n",
      "   <br/>\n",
      "  </br>\n",
      " </p>\n",
      " <p>\n",
      "  <img alt=\"Today: Partly sunny, with a high near 57. Southeast wind around 5 mph becoming light and variable  in the afternoon. \" class=\"forecast-icon\" src=\"newimages/medium/bkn.png\" title=\"Today: Partly sunny, with a high near 57. Southeast wind around 5 mph becoming light and variable  in the afternoon. \"/>\n",
      " </p>\n",
      " <p class=\"short-desc\">\n",
      "  Partly Sunny\n",
      " </p>\n",
      " <p class=\"temp temp-high\">\n",
      "  High: 57 °F\n",
      " </p>\n",
      "</div>\n"
     ]
    }
   ],
   "source": [
    "page = requests.get(\"http://forecast.weather.gov/MapClick.php?lat=37.7772&lon=-122.4168\")\n",
    "soup = BeautifulSoup(page.content, 'html.parser')\n",
    "seven_day = soup.find(id=\"seven-day-forecast\")\n",
    "forecast_items = seven_day.find_all(class_=\"tombstone-container\")\n",
    "tonight = forecast_items[0]\n",
    "print(tonight.prettify())"
   ]
  },
  {
   "cell_type": "markdown",
   "metadata": {},
   "source": [
    "<h2 id=\"extracting-information-from-the-page\">Extracting information from the page</h2>\n",
    "<p>As you can see, inside the forecast item <code class=\"highlighter-rouge\">tonight</code> is all the information we want.  There are <code class=\"highlighter-rouge\">4</code> pieces of information we can extract:</p>\n",
    "<ul>\n",
    "  <li>The name of the forecast item – in this case, <code class=\"highlighter-rouge\">Tonight</code>.</li>\n",
    "  <li>The description of the conditions – this is stored in the <code class=\"highlighter-rouge\">title</code> property of <code class=\"highlighter-rouge\">img</code>.</li>\n",
    "  <li>A short description of the conditions – in this case, <code class=\"highlighter-rouge\">Mostly Clear</code>.</li>\n",
    "  <li>The temperature low – in this case, <code class=\"highlighter-rouge\">49</code> degrees.</li>\n",
    "</ul>\n",
    "<p>We’ll extract the name of the forecast item, the short description, and the temperature first, since they’re all similar:</p>"
   ]
  },
  {
   "cell_type": "code",
   "execution_count": 36,
   "metadata": {},
   "outputs": [
    {
     "name": "stdout",
     "output_type": "stream",
     "text": [
      "Today\n",
      "Partly Sunny\n",
      "High: 57 °F\n"
     ]
    }
   ],
   "source": [
    "period = tonight.find(class_=\"period-name\").get_text()\n",
    "short_desc = tonight.find(class_=\"short-desc\").get_text()\n",
    "temp = tonight.find(class_=\"temp\").get_text()\n",
    "\n",
    "print(period)\n",
    "print(short_desc)\n",
    "print(temp)"
   ]
  },
  {
   "cell_type": "markdown",
   "metadata": {},
   "source": [
    "<p>Now, we can extract the <code class=\"highlighter-rouge\">title</code> attribute from the <code class=\"highlighter-rouge\">img</code> tag.  To do this, we just treat the <code class=\"highlighter-rouge\">BeautifulSoup</code> object like a dictionary, and pass in the attribute we want as a key:</p>"
   ]
  },
  {
   "cell_type": "code",
   "execution_count": 37,
   "metadata": {},
   "outputs": [
    {
     "name": "stdout",
     "output_type": "stream",
     "text": [
      "Today: Partly sunny, with a high near 57. Southeast wind around 5 mph becoming light and variable  in the afternoon. \n"
     ]
    }
   ],
   "source": [
    "img = tonight.find(\"img\")\n",
    "desc = img['title']\n",
    "\n",
    "print(desc)"
   ]
  },
  {
   "cell_type": "markdown",
   "metadata": {},
   "source": [
    "<h2 id=\"extracting-all-the-information-from-the-page\">Extracting all the information from the page</h2>\n",
    "<p>Now that we know how to extract each individual piece of information, we can combine our knowledge with css selectors and list comprehensions to extract everything at once.</p>\n",
    "<p>In the below code, we:</p>\n",
    "<ul>\n",
    "  <li>Select all items with the class <code class=\"highlighter-rouge\">period-name</code> inside an item with the class <code class=\"highlighter-rouge\">tombstone-container</code> in <code class=\"highlighter-rouge\">seven_day</code>.</li>\n",
    "  <li>Use a list comprehension to call the <code class=\"highlighter-rouge\">get_text</code> method on each <code class=\"highlighter-rouge\">BeautifulSoup</code> object.</li>\n",
    "</ul>"
   ]
  },
  {
   "cell_type": "code",
   "execution_count": 38,
   "metadata": {},
   "outputs": [
    {
     "data": {
      "text/plain": [
       "['Today',\n",
       " 'Tonight',\n",
       " 'Wednesday',\n",
       " 'WednesdayNight',\n",
       " 'Thursday',\n",
       " 'ThursdayNight',\n",
       " 'Friday',\n",
       " 'FridayNight',\n",
       " 'Saturday']"
      ]
     },
     "execution_count": 38,
     "metadata": {},
     "output_type": "execute_result"
    }
   ],
   "source": [
    "period_tags = seven_day.select(\".tombstone-container .period-name\")\n",
    "periods = [pt.get_text() for pt in period_tags]\n",
    "periods"
   ]
  },
  {
   "cell_type": "markdown",
   "metadata": {},
   "source": [
    "<p>As you can see above, our technique gets us each of the period names, in order.  We can apply the same technique to get the other <code class=\"highlighter-rouge\">3</code> fields:</p>"
   ]
  },
  {
   "cell_type": "code",
   "execution_count": 39,
   "metadata": {},
   "outputs": [
    {
     "name": "stdout",
     "output_type": "stream",
     "text": [
      "['Partly Sunny', 'Mostly Cloudy', 'Partly Sunny', 'Partly Cloudy', 'Mostly Sunny', 'Partly Cloudy', 'Mostly Sunny', 'Partly Cloudy', 'Partly Sunny']\n",
      "['High: 57 °F', 'Low: 51 °F', 'High: 64 °F', 'Low: 50 °F', 'High: 66 °F', 'Low: 53 °F', 'High: 66 °F', 'Low: 50 °F', 'High: 63 °F']\n",
      "['Today: Partly sunny, with a high near 57. Southeast wind around 5 mph becoming light and variable  in the afternoon. ', 'Tonight: Mostly cloudy, with a low around 51. West wind 5 to 10 mph becoming light and variable. ', 'Wednesday: Partly sunny, with a high near 64. North wind 5 to 10 mph becoming west in the afternoon. ', 'Wednesday Night: Partly cloudy, with a low around 50. West wind 10 to 15 mph becoming light northwest  in the evening. Winds could gust as high as 20 mph. ', 'Thursday: Mostly sunny, with a high near 66. West southwest wind around 5 mph becoming calm  in the morning. ', 'Thursday Night: Partly cloudy, with a low around 53.', 'Friday: Mostly sunny, with a high near 66.', 'Friday Night: Partly cloudy, with a low around 50.', 'Saturday: Partly sunny, with a high near 63.']\n"
     ]
    }
   ],
   "source": [
    "short_descs = [sd.get_text() for sd in seven_day.select(\".tombstone-container .short-desc\")]\n",
    "temps = [t.get_text() for t in seven_day.select(\".tombstone-container .temp\")]\n",
    "descs = [d[\"title\"] for d in seven_day.select(\".tombstone-container img\")]\n",
    "\n",
    "print(short_descs)\n",
    "print(temps)\n",
    "print(descs)"
   ]
  },
  {
   "cell_type": "markdown",
   "metadata": {},
   "source": [
    "<h2 id=\"combining-our-data-into-a-pandas-dataframe\">Combining our data into a Pandas Dataframe</h2>\n",
    "<p>We can now combine the data into a <a href=\"http://pandas.pydata.org/\">Pandas</a> DataFrame and analyze it.  A DataFrame is an object that can store tabular data, making data analysis easy.\n",
    "<p>In order to do this, we’ll call the <a href=\"http://pandas.pydata.org/pandas-docs/stable/generated/pandas.DataFrame.html\">DataFrame</a> class, and pass in each list of items that we have.  We pass them in as part of a dictionary.  Each dictionary key will become a column in the DataFrame, and each list will become the values in the column:</p>"
   ]
  },
  {
   "cell_type": "code",
   "execution_count": 40,
   "metadata": {},
   "outputs": [
    {
     "data": {
      "text/html": [
       "<div>\n",
       "<table border=\"1\" class=\"dataframe\">\n",
       "  <thead>\n",
       "    <tr style=\"text-align: right;\">\n",
       "      <th></th>\n",
       "      <th>desc</th>\n",
       "      <th>period</th>\n",
       "      <th>short_desc</th>\n",
       "      <th>temp</th>\n",
       "    </tr>\n",
       "  </thead>\n",
       "  <tbody>\n",
       "    <tr>\n",
       "      <th>0</th>\n",
       "      <td>Today: Partly sunny, with a high near 57. Sout...</td>\n",
       "      <td>Today</td>\n",
       "      <td>Partly Sunny</td>\n",
       "      <td>High: 57 °F</td>\n",
       "    </tr>\n",
       "    <tr>\n",
       "      <th>1</th>\n",
       "      <td>Tonight: Mostly cloudy, with a low around 51. ...</td>\n",
       "      <td>Tonight</td>\n",
       "      <td>Mostly Cloudy</td>\n",
       "      <td>Low: 51 °F</td>\n",
       "    </tr>\n",
       "    <tr>\n",
       "      <th>2</th>\n",
       "      <td>Wednesday: Partly sunny, with a high near 64. ...</td>\n",
       "      <td>Wednesday</td>\n",
       "      <td>Partly Sunny</td>\n",
       "      <td>High: 64 °F</td>\n",
       "    </tr>\n",
       "    <tr>\n",
       "      <th>3</th>\n",
       "      <td>Wednesday Night: Partly cloudy, with a low aro...</td>\n",
       "      <td>WednesdayNight</td>\n",
       "      <td>Partly Cloudy</td>\n",
       "      <td>Low: 50 °F</td>\n",
       "    </tr>\n",
       "    <tr>\n",
       "      <th>4</th>\n",
       "      <td>Thursday: Mostly sunny, with a high near 66. W...</td>\n",
       "      <td>Thursday</td>\n",
       "      <td>Mostly Sunny</td>\n",
       "      <td>High: 66 °F</td>\n",
       "    </tr>\n",
       "    <tr>\n",
       "      <th>5</th>\n",
       "      <td>Thursday Night: Partly cloudy, with a low arou...</td>\n",
       "      <td>ThursdayNight</td>\n",
       "      <td>Partly Cloudy</td>\n",
       "      <td>Low: 53 °F</td>\n",
       "    </tr>\n",
       "    <tr>\n",
       "      <th>6</th>\n",
       "      <td>Friday: Mostly sunny, with a high near 66.</td>\n",
       "      <td>Friday</td>\n",
       "      <td>Mostly Sunny</td>\n",
       "      <td>High: 66 °F</td>\n",
       "    </tr>\n",
       "    <tr>\n",
       "      <th>7</th>\n",
       "      <td>Friday Night: Partly cloudy, with a low around...</td>\n",
       "      <td>FridayNight</td>\n",
       "      <td>Partly Cloudy</td>\n",
       "      <td>Low: 50 °F</td>\n",
       "    </tr>\n",
       "    <tr>\n",
       "      <th>8</th>\n",
       "      <td>Saturday: Partly sunny, with a high near 63.</td>\n",
       "      <td>Saturday</td>\n",
       "      <td>Partly Sunny</td>\n",
       "      <td>High: 63 °F</td>\n",
       "    </tr>\n",
       "  </tbody>\n",
       "</table>\n",
       "</div>"
      ],
      "text/plain": [
       "                                                desc          period  \\\n",
       "0  Today: Partly sunny, with a high near 57. Sout...           Today   \n",
       "1  Tonight: Mostly cloudy, with a low around 51. ...         Tonight   \n",
       "2  Wednesday: Partly sunny, with a high near 64. ...       Wednesday   \n",
       "3  Wednesday Night: Partly cloudy, with a low aro...  WednesdayNight   \n",
       "4  Thursday: Mostly sunny, with a high near 66. W...        Thursday   \n",
       "5  Thursday Night: Partly cloudy, with a low arou...   ThursdayNight   \n",
       "6         Friday: Mostly sunny, with a high near 66.          Friday   \n",
       "7  Friday Night: Partly cloudy, with a low around...     FridayNight   \n",
       "8       Saturday: Partly sunny, with a high near 63.        Saturday   \n",
       "\n",
       "      short_desc         temp  \n",
       "0   Partly Sunny  High: 57 °F  \n",
       "1  Mostly Cloudy   Low: 51 °F  \n",
       "2   Partly Sunny  High: 64 °F  \n",
       "3  Partly Cloudy   Low: 50 °F  \n",
       "4   Mostly Sunny  High: 66 °F  \n",
       "5  Partly Cloudy   Low: 53 °F  \n",
       "6   Mostly Sunny  High: 66 °F  \n",
       "7  Partly Cloudy   Low: 50 °F  \n",
       "8   Partly Sunny  High: 63 °F  "
      ]
     },
     "execution_count": 40,
     "metadata": {},
     "output_type": "execute_result"
    }
   ],
   "source": [
    "import pandas as pd\n",
    "weather = pd.DataFrame({\n",
    "        \"period\": periods, \n",
    "        \"short_desc\": short_descs, \n",
    "        \"temp\": temps, \n",
    "        \"desc\":descs\n",
    "    })\n",
    "weather"
   ]
  },
  {
   "cell_type": "markdown",
   "metadata": {},
   "source": [
    "<p>We can now do some analysis on the data.  For example, we can use a regular expression and the <a href=\"http://pandas.pydata.org/pandas-docs/stable/generated/pandas.Series.str.extract.html\">Series.str.extract</a> method to pull out the numeric temperature values:</p>"
   ]
  },
  {
   "cell_type": "code",
   "execution_count": 41,
   "metadata": {},
   "outputs": [
    {
     "data": {
      "text/plain": [
       "0    57\n",
       "1    51\n",
       "2    64\n",
       "3    50\n",
       "4    66\n",
       "5    53\n",
       "6    66\n",
       "7    50\n",
       "8    63\n",
       "Name: temp_num, dtype: object"
      ]
     },
     "execution_count": 41,
     "metadata": {},
     "output_type": "execute_result"
    }
   ],
   "source": [
    "temp_nums = weather[\"temp\"].str.extract(\"(?P<temp_num>\\d+)\", expand=False)\n",
    "weather[\"temp_num\"] = temp_nums.astype('int')\n",
    "temp_nums"
   ]
  },
  {
   "cell_type": "markdown",
   "metadata": {},
   "source": [
    "<p>We could then find the mean of all the high and low temperatures:</p>"
   ]
  },
  {
   "cell_type": "code",
   "execution_count": 42,
   "metadata": {},
   "outputs": [
    {
     "data": {
      "text/plain": [
       "57.77777777777778"
      ]
     },
     "execution_count": 42,
     "metadata": {},
     "output_type": "execute_result"
    }
   ],
   "source": [
    "weather[\"temp_num\"].mean()"
   ]
  },
  {
   "cell_type": "markdown",
   "metadata": {},
   "source": [
    "<p>We could also only select the rows that happen at night:</p>"
   ]
  },
  {
   "cell_type": "code",
   "execution_count": 43,
   "metadata": {},
   "outputs": [
    {
     "data": {
      "text/plain": [
       "0    False\n",
       "1     True\n",
       "2    False\n",
       "3     True\n",
       "4    False\n",
       "5     True\n",
       "6    False\n",
       "7     True\n",
       "8    False\n",
       "Name: temp, dtype: bool"
      ]
     },
     "execution_count": 43,
     "metadata": {},
     "output_type": "execute_result"
    }
   ],
   "source": [
    "is_night = weather[\"temp\"].str.contains(\"Low\")\n",
    "weather[\"is_night\"] = is_night\n",
    "is_night"
   ]
  },
  {
   "cell_type": "code",
   "execution_count": 44,
   "metadata": {},
   "outputs": [
    {
     "data": {
      "text/html": [
       "<div>\n",
       "<table border=\"1\" class=\"dataframe\">\n",
       "  <thead>\n",
       "    <tr style=\"text-align: right;\">\n",
       "      <th></th>\n",
       "      <th>desc</th>\n",
       "      <th>period</th>\n",
       "      <th>short_desc</th>\n",
       "      <th>temp</th>\n",
       "      <th>temp_num</th>\n",
       "      <th>is_night</th>\n",
       "    </tr>\n",
       "  </thead>\n",
       "  <tbody>\n",
       "    <tr>\n",
       "      <th>1</th>\n",
       "      <td>Tonight: Mostly cloudy, with a low around 51. ...</td>\n",
       "      <td>Tonight</td>\n",
       "      <td>Mostly Cloudy</td>\n",
       "      <td>Low: 51 °F</td>\n",
       "      <td>51</td>\n",
       "      <td>True</td>\n",
       "    </tr>\n",
       "    <tr>\n",
       "      <th>3</th>\n",
       "      <td>Wednesday Night: Partly cloudy, with a low aro...</td>\n",
       "      <td>WednesdayNight</td>\n",
       "      <td>Partly Cloudy</td>\n",
       "      <td>Low: 50 °F</td>\n",
       "      <td>50</td>\n",
       "      <td>True</td>\n",
       "    </tr>\n",
       "    <tr>\n",
       "      <th>5</th>\n",
       "      <td>Thursday Night: Partly cloudy, with a low arou...</td>\n",
       "      <td>ThursdayNight</td>\n",
       "      <td>Partly Cloudy</td>\n",
       "      <td>Low: 53 °F</td>\n",
       "      <td>53</td>\n",
       "      <td>True</td>\n",
       "    </tr>\n",
       "    <tr>\n",
       "      <th>7</th>\n",
       "      <td>Friday Night: Partly cloudy, with a low around...</td>\n",
       "      <td>FridayNight</td>\n",
       "      <td>Partly Cloudy</td>\n",
       "      <td>Low: 50 °F</td>\n",
       "      <td>50</td>\n",
       "      <td>True</td>\n",
       "    </tr>\n",
       "  </tbody>\n",
       "</table>\n",
       "</div>"
      ],
      "text/plain": [
       "                                                desc          period  \\\n",
       "1  Tonight: Mostly cloudy, with a low around 51. ...         Tonight   \n",
       "3  Wednesday Night: Partly cloudy, with a low aro...  WednesdayNight   \n",
       "5  Thursday Night: Partly cloudy, with a low arou...   ThursdayNight   \n",
       "7  Friday Night: Partly cloudy, with a low around...     FridayNight   \n",
       "\n",
       "      short_desc        temp  temp_num is_night  \n",
       "1  Mostly Cloudy  Low: 51 °F        51     True  \n",
       "3  Partly Cloudy  Low: 50 °F        50     True  \n",
       "5  Partly Cloudy  Low: 53 °F        53     True  \n",
       "7  Partly Cloudy  Low: 50 °F        50     True  "
      ]
     },
     "execution_count": 44,
     "metadata": {},
     "output_type": "execute_result"
    }
   ],
   "source": [
    "weather[is_night]"
   ]
  },
  {
   "cell_type": "markdown",
   "metadata": {},
   "source": [
    "<h2 id=\"next-steps\">Next Steps</h2>\n",
    "<p>You should now have a good understanding of how to scrape web pages and extract data.  A good next step would be to pick a site and try some web scraping on your own.  Some good examples of data to scrape are:</p>\n",
    "<ul>\n",
    "  <li>News articles</li>\n",
    "  <li>Sports scores</li>\n",
    "  <li>Weather forecasts</li>\n",
    "  <li>Stock prices</li>\n",
    "  <li>Online retailer prices</li>\n",
    "</ul>\n",
    "<p>You may also want to keep scraping the National Weather Service, and see what other data you can extract from the page, or about your own city.</p>"
   ]
  },
  {
   "cell_type": "code",
   "execution_count": null,
   "metadata": {
    "collapsed": true
   },
   "outputs": [],
   "source": []
  }
 ],
 "metadata": {
  "anaconda-cloud": {},
  "kernelspec": {
   "display_name": "Python 3",
   "language": "python",
   "name": "python3"
  },
  "language_info": {
   "codemirror_mode": {
    "name": "ipython",
    "version": 3
   },
   "file_extension": ".py",
   "mimetype": "text/x-python",
   "name": "python",
   "nbconvert_exporter": "python",
   "pygments_lexer": "ipython3",
   "version": "3.6.3"
  }
 },
 "nbformat": 4,
 "nbformat_minor": 1
}
