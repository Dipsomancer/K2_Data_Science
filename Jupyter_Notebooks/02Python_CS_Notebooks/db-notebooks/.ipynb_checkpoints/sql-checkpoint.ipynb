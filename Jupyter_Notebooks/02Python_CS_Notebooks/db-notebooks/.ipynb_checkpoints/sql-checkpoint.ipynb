{
 "cells": [
  {
   "cell_type": "markdown",
   "metadata": {
    "collapsed": true
   },
   "source": [
    "# SQLite database operations in Python"
   ]
  },
  {
   "cell_type": "markdown",
   "metadata": {},
   "source": [
    "## Connecting to an SQLite database\n",
    "\n",
    "The sqlite3 that we will be using throughout this tutorial is part of the\n",
    "Python Standard Library and is a nice and easy interface to SQLite databases:\n",
    "There are no server processes involved, no configurations required, and no\n",
    "other obstacles we have to worry about.\n",
    "\n",
    "In general, the only thing that needs to be done before we can perform any\n",
    "operation on a SQLite database via Python's `sqlite3` module, is to open a\n",
    "connection to an SQLite database file:\n",
    "\n",
    "    \n",
    "    \n",
    "    import sqlite3\n",
    "    conn = sqlite3.connect(sqlite_file)\n",
    "    c = conn.cursor()\n",
    "    \n",
    "\n",
    "where the database file (`sqlite_file`) can reside anywhere on our disk, e.g.,\n",
    "\n",
    "    \n",
    "    \n",
    "    sqlite_file = '/Desktop/my_db.sqlite' \n",
    "    \n",
    "\n",
    "Conveniently, a new database file (`.sqlite` file) will be created\n",
    "automatically the first time we try to connect to a database. However, we have\n",
    "to be aware that it won't have a table, yet. In the following section, we will\n",
    "take a look at some example code of how to create a new SQLite database files\n",
    "with tables for storing some data.\n",
    "\n",
    "To round up this section about connecting to a SQLite database file, there are\n",
    "two more operations that are worth mentioning. If we are finished with our\n",
    "operations on the database file, we have to close the connection via the\n",
    "`.close()` method:\n",
    "\n",
    "    \n",
    "    \n",
    "    conn.close()\n",
    "    \n",
    "\n",
    "And if we performed any operation on the database other than sending queries,\n",
    "we need to commit those changes via the `.commit()` method before we close the\n",
    "connection:\n",
    "\n",
    "    \n",
    "    \n",
    "    conn.commit()\n",
    "    conn.close()\n",
    "    "
   ]
  },
  {
   "cell_type": "markdown",
   "metadata": {},
   "source": [
    "## Creating a new SQLite database\n",
    "\n",
    "Let us have a look at some example code to create a new SQLite database file with two tables: One with and one without a PRIMARY KEY column (don't worry, there is more information about PRIMARY KEYs further down in this section)."
   ]
  },
  {
   "cell_type": "code",
   "execution_count": 21,
   "metadata": {},
   "outputs": [],
   "source": [
    "import sqlite3\n",
    "\n",
    "sqlite_file = 'my_first_db.sqlite'    # name of the sqlite database file\n",
    "table_name1 = 'my_table_1'  # name of the table to be created\n",
    "table_name2 = 'my_table_2'  # name of the table to be created\n",
    "new_field = 'my_1st_column' # name of the column\n",
    "field_type = 'INTEGER'  # column data type\n",
    "\n",
    "# Connecting to the database file\n",
    "conn = sqlite3.connect(sqlite_file)\n",
    "c = conn.cursor()\n",
    "\n",
    "# Creating a new SQLite table with 1 column\n",
    "c.execute('CREATE TABLE {tn} ({nf} {ft})'\\\n",
    "        .format(tn=table_name1, nf=new_field, ft=field_type))\n",
    "\n",
    "# Creating a second table with 1 column and set it as PRIMARY KEY\n",
    "# note that PRIMARY KEY column must consist of unique values!\n",
    "c.execute('CREATE TABLE {tn} ({nf} {ft} PRIMARY KEY)'\\\n",
    "        .format(tn=table_name2, nf=new_field, ft=field_type))\n",
    "\n",
    "# Committing changes and closing the connection to the database file\n",
    "conn.commit()\n",
    "conn.close()"
   ]
  },
  {
   "cell_type": "markdown",
   "metadata": {},
   "source": [
    "**Tip:** A handy tool to visualize and access SQLite databases is the free [DB Browser for SQLite](http://sqlitebrowser.org/). Throughout this article, I will use this tool to provide screenshots of the database structures that we created below the corresponding code sections."
   ]
  },
  {
   "cell_type": "markdown",
   "metadata": {},
   "source": [
    "![1_sqlite3_init_db.png](./images/1_sqlite3_init_db.png)  "
   ]
  },
  {
   "cell_type": "markdown",
   "metadata": {},
   "source": [
    "Using the code above, we created a new `.sqlite` database file with 2 tables.\n",
    "Each table consists of currently one column only, which is of type INTEGER."
   ]
  },
  {
   "cell_type": "markdown",
   "metadata": {},
   "source": [
    "**Here is a quick overview of all data types that are supported by SQLite 3:**\n",
    "\n",
    "  * INTEGER: A signed integer up to 8 bytes depending on the magnitude of the value.\n",
    "  * REAL: An 8-byte floating point value.\n",
    "  * TEXT: A text string, typically UTF-8 encoded (depending on the database encoding).\n",
    "  * BLOB: A blob of data (binary large object) for storing binary data.\n",
    "  * NULL: A NULL value, represents missing data or an empty cell."
   ]
  },
  {
   "cell_type": "markdown",
   "metadata": {},
   "source": [
    "Looking at the table above, You might have noticed that SQLite 3 has no\n",
    "designated Boolean data type. However, this should not be an issue, since we\n",
    "could simply re-purpose the INTEGER type to represent Boolean values (0 =\n",
    "false, 1 = true)."
   ]
  },
  {
   "cell_type": "markdown",
   "metadata": {},
   "source": [
    "**A quick word on PRIMARY KEYS:**  \n",
    "In our example code above, we set our 1 column in the second table to PRIMARY\n",
    "KEY. The advantage of a PRIMARY KEY index is a significant performance gain if\n",
    "we use the PRIMARY KEY column as query for accessing rows in the table. Every\n",
    "table can only have max. 1 PRIMARY KEY (single or multiple column(s)), and the\n",
    "values in this column MUST be unique! But more on column indexing in the a\n",
    "later section."
   ]
  },
  {
   "cell_type": "markdown",
   "metadata": {},
   "source": [
    "## Adding new columns\n",
    "\n",
    "If we want to add a new column to an existing SQLite database table, we can\n",
    "either leave the cells for each row empty (NULL value), or we can set a\n",
    "default value for each cell, which is pretty convenient for certain\n",
    "applications.  \n",
    "Let's have a look at some code:\n"
   ]
  },
  {
   "cell_type": "code",
   "execution_count": 22,
   "metadata": {
    "collapsed": true
   },
   "outputs": [],
   "source": [
    "import sqlite3\n",
    "\n",
    "sqlite_file = 'my_first_db.sqlite'    # name of the sqlite database file\n",
    "table_name = 'my_table_2'   # name of the table to be created\n",
    "id_column = 'my_1st_column' # name of the PRIMARY KEY column\n",
    "new_column1 = 'my_2nd_column'  # name of the new column\n",
    "new_column2 = 'my_3rd_column'  # name of the new column\n",
    "column_type = 'TEXT' # E.g., INTEGER, TEXT, NULL, REAL, BLOB\n",
    "default_val = 'Hello World' # a default value for the new column rows\n",
    "\n",
    "# Connecting to the database file\n",
    "conn = sqlite3.connect(sqlite_file)\n",
    "c = conn.cursor()\n",
    "\n",
    "# A) Adding a new column without a row value\n",
    "c.execute(\"ALTER TABLE {tn} ADD COLUMN '{cn}' {ct}\"\\\n",
    "        .format(tn=table_name, cn=new_column1, ct=column_type))\n",
    "\n",
    "# B) Adding a new column with a default row value\n",
    "c.execute(\"ALTER TABLE {tn} ADD COLUMN '{cn}' {ct} DEFAULT '{df}'\"\\\n",
    "        .format(tn=table_name, cn=new_column2, ct=column_type, df=default_val))\n",
    "\n",
    "# Committing changes and closing the connection to the database file\n",
    "conn.commit()\n",
    "conn.close()"
   ]
  },
  {
   "cell_type": "markdown",
   "metadata": {},
   "source": [
    "![2_sqlite3_add_col.png](./images/2_sqlite3_add_col.png)  "
   ]
  },
  {
   "cell_type": "markdown",
   "metadata": {},
   "source": [
    "We just added 2 more columns (`my_2nd_column` and `my_3rd_column`) to\n",
    "`my_table_2` of our SQLite database next to the PRIMARY KEY column\n",
    "`my_1st_column`.  \n",
    "\n",
    "The difference between the two new columns is that we initialized\n",
    "`my_3rd_column` with a default value (here:'Hello World'), which will be\n",
    "inserted for every existing cell under this column and for every new row that\n",
    "we are going to add to the table if we don't insert or update it with a\n",
    "different value."
   ]
  },
  {
   "cell_type": "markdown",
   "metadata": {},
   "source": [
    "## Inserting and updating rows\n",
    "\n",
    "Inserting and updating rows into an existing SQLite database table - next to\n",
    "sending queries - is probably the most common database operation. The\n",
    "Structured Query Language has a convenient `UPSERT` function, which is\n",
    "basically just a merge between UPDATE and INSERT: It inserts new rows into a\n",
    "database table with a value for the PRIMARY KEY column if it does not exist\n",
    "yet, or updates a row for an existing PRIMARY KEY value. Unfortunately, this\n",
    "convenient syntax is not supported by the more compact SQLite database\n",
    "implementation that we are using here. However, there are some workarounds.\n",
    "But let us first have a look at the example code:\n"
   ]
  },
  {
   "cell_type": "code",
   "execution_count": 23,
   "metadata": {},
   "outputs": [],
   "source": [
    "import sqlite3\n",
    "\n",
    "sqlite_file = 'my_first_db.sqlite'\n",
    "table_name = 'my_table_2'\n",
    "id_column = 'my_1st_column'\n",
    "column_name = 'my_2nd_column'\n",
    "\n",
    "# Connecting to the database file\n",
    "conn = sqlite3.connect(sqlite_file)\n",
    "c = conn.cursor()\n",
    "\n",
    "# A) Inserts an ID with a specific value in a second column \n",
    "try:\n",
    "    c.execute(\"INSERT INTO {tn} ({idf}, {cn}) VALUES (123456, 'test')\".\\\n",
    "        format(tn=table_name, idf=id_column, cn=column_name))\n",
    "except sqlite3.IntegrityError:\n",
    "    print('ERROR: ID already exists in PRIMARY KEY column {}'.format(id_column))\n",
    "\n",
    "# B) Tries to insert an ID (if it does not exist yet)\n",
    "# with a specific value in a second column \n",
    "c.execute(\"INSERT OR IGNORE INTO {tn} ({idf}, {cn}) VALUES (123456, 'test')\".\\\n",
    "        format(tn=table_name, idf=id_column, cn=column_name))\n",
    "\n",
    "# C) Updates the newly inserted or pre-existing entry            \n",
    "c.execute(\"UPDATE {tn} SET {cn}=('Hi World') WHERE {idf}=(123456)\".\\\n",
    "        format(tn=table_name, cn=column_name, idf=id_column))\n",
    "\n",
    "conn.commit()\n",
    "conn.close()"
   ]
  },
  {
   "cell_type": "markdown",
   "metadata": {},
   "source": [
    "![3_sqlite3_insert_update.png](./images/3_sqlite3_insert_update.png)  "
   ]
  },
  {
   "cell_type": "markdown",
   "metadata": {},
   "source": [
    "Both A) `INSERT` and B) `INSERT OR IGNORE` have in common that they append new\n",
    "rows to the database if a given PRIMARY KEY does not exist in the database\n",
    "table, yet. However, if we'd try to append a PRIMARY KEY value that is not\n",
    "unique, a simple `INSERT` would raise an `sqlite3.IntegrityError` exception,\n",
    "which can be either captured via a try-except statement (case A) or\n",
    "circumvented by the SQLite call `INSERT OR IGNORE` (case B). This can be\n",
    "pretty useful if we want to construct an `UPSERT` equivalent in SQLite. E.g.,\n",
    "if we want to add a dataset to an existing database table that contains a mix\n",
    "between existing and new IDs for our PRIMARY KEY column."
   ]
  },
  {
   "cell_type": "markdown",
   "metadata": {},
   "source": [
    "## Creating unique indexes\n",
    "\n",
    "Just like hashtable-datastructures, indexes function as direct pointers to our\n",
    "data in a table for a particular column (i.e., the indexed column). For\n",
    "example, the PRIMARY KEY column would have such an index by default. The\n",
    "downside of indexes is that every row value in the column must be unique.\n",
    "However, it is recommended and pretty useful to index certain columns if\n",
    "possible, since it rewards us with a significant performance gain for the data\n",
    "retrieval.  \n",
    "The example code below shows how to add such an unique index to an existing\n",
    "column in an SQLite database table. And if we should decide to insert non-\n",
    "unique values into a indexed column later, there is also a convenient way to\n",
    "drop the index, which is also shown in the code below."
   ]
  },
  {
   "cell_type": "code",
   "execution_count": 24,
   "metadata": {},
   "outputs": [],
   "source": [
    "import sqlite3\n",
    "\n",
    "sqlite_file = 'my_first_db.sqlite'    # name of the sqlite database file\n",
    "table_name = 'my_table_2'   # name of the table to be created\n",
    "id_column = 'my_1st_column' # name of the PRIMARY KEY column\n",
    "new_column = 'unique_names'  # name of the new column\n",
    "column_type = 'TEXT' # E.g., INTEGER, TEXT, NULL, REAL, BLOB\n",
    "index_name = 'my_unique_index'  # name for the new unique index\n",
    "\n",
    "# Connecting to the database file\n",
    "conn = sqlite3.connect(sqlite_file)\n",
    "c = conn.cursor()\n",
    "\n",
    "# Adding a new column and update some record\n",
    "c.execute(\"ALTER TABLE {tn} ADD COLUMN '{cn}' {ct}\"\\\n",
    "        .format(tn=table_name, cn=new_column, ct=column_type))\n",
    "c.execute(\"UPDATE {tn} SET {cn}='nelson_c' WHERE {idf}=123456\".\\\n",
    "        format(tn=table_name, idf=id_column, cn=new_column))\n",
    "\n",
    "# Creating an unique index\n",
    "c.execute('CREATE INDEX {ix} on {tn}({cn})'\\\n",
    "        .format(ix=index_name, tn=table_name, cn=new_column))\n",
    "\n",
    "# Dropping the unique index\n",
    "# E.g., to avoid future conflicts with update/insert functions\n",
    "c.execute('DROP INDEX {ix}'.format(ix=index_name))\n",
    "\n",
    "# Committing changes and closing the connection to the database file\n",
    "conn.commit()\n",
    "conn.close()"
   ]
  },
  {
   "cell_type": "markdown",
   "metadata": {},
   "source": [
    "![4_sqlite3_unique_index.png](./images/4_sqlite3_unique_index.png)  "
   ]
  },
  {
   "cell_type": "markdown",
   "metadata": {},
   "source": [
    "## Querying the database - Selecting rows\n",
    "\n",
    "After we learned about how to create and modify SQLite databases, it's about\n",
    "time for some data retrieval. The code below illustrates how we can retrieve\n",
    "row entries for all or some columns if they match certain criteria.\n"
   ]
  },
  {
   "cell_type": "code",
   "execution_count": 25,
   "metadata": {},
   "outputs": [
    {
     "name": "stdout",
     "output_type": "stream",
     "text": [
      "1): [(123456, 'Hi World', 'Hello World', 'nelson_c')]\n",
      "2): [('Hi World',)]\n",
      "3): [('Hi World', 'Hello World')]\n",
      "4): [(123456, 'Hi World', 'Hello World', 'nelson_c')]\n",
      "5): (123456, 'Hi World', 'Hello World', 'nelson_c')\n"
     ]
    }
   ],
   "source": [
    "import sqlite3\n",
    "\n",
    "sqlite_file = 'my_first_db.sqlite'    # name of the sqlite database file\n",
    "table_name = 'my_table_2'   # name of the table to be queried\n",
    "id_column = 'my_1st_column'\n",
    "some_id = 123456\n",
    "column_2 = 'my_2nd_column'\n",
    "column_3 = 'my_3rd_column'    \n",
    "\n",
    "# Connecting to the database file\n",
    "conn = sqlite3.connect(sqlite_file)\n",
    "c = conn.cursor()\n",
    "\n",
    "# 1) Contents of all columns for row that match a certain value in 1 column\n",
    "c.execute('SELECT * FROM {tn} WHERE {cn}=\"Hi World\"'.\\\n",
    "        format(tn=table_name, cn=column_2))\n",
    "all_rows = c.fetchall()\n",
    "print('1):', all_rows)\n",
    "\n",
    "# 2) Value of a particular column for rows that match a certain value in column_1 \n",
    "c.execute('SELECT ({coi}) FROM {tn} WHERE {cn}=\"Hi World\"'.\\\n",
    "        format(coi=column_2, tn=table_name, cn=column_2))\n",
    "all_rows = c.fetchall()\n",
    "print('2):', all_rows)\n",
    "\n",
    "# 3) Value of 2 particular columns for rows that match a certain value in 1 column\n",
    "c.execute('SELECT {coi1},{coi2} FROM {tn} WHERE {coi1}=\"Hi World\"'.\\\n",
    "        format(coi1=column_2, coi2=column_3, tn=table_name, cn=column_2))\n",
    "all_rows = c.fetchall()\n",
    "print('3):', all_rows)\n",
    "\n",
    "# 4) Selecting only up to 10 rows that match a certain value in 1 column\n",
    "c.execute('SELECT * FROM {tn} WHERE {cn}=\"Hi World\" LIMIT 10'.\\\n",
    "        format(tn=table_name, cn=column_2))\n",
    "ten_rows = c.fetchall()\n",
    "print('4):', ten_rows)\n",
    "\n",
    "# 5) Check if a certain ID exists and print its column contents\n",
    "c.execute(\"SELECT * FROM {tn} WHERE {idf}={my_id}\".\\\n",
    "        format(tn=table_name, cn=column_2, idf=id_column, my_id=some_id))\n",
    "id_exists = c.fetchone()\n",
    "if id_exists:\n",
    "    print('5): {}'.format(id_exists))\n",
    "else:\n",
    "    print('5): {} does not exist'.format(some_id))\n",
    "\n",
    "# Closing the connection to the database file\n",
    "conn.close()"
   ]
  },
  {
   "cell_type": "markdown",
   "metadata": {},
   "source": [
    "![4_sqlite3_unique_index.png](./images/4_sqlite3_unique_index.png)  \n",
    "  \n",
    "if we use the `.fetchall()` method, we return a list of tuples from the\n",
    "database query, where each tuple represents one row entry. The print output\n",
    "for the 5 different cases shown in the code above would look like this (note\n",
    "that we only have a table with 1 row here):  \n",
    "  \n",
    "![6_sqlite3_print_selecting_rows.png](./images/6_sqlite3_print_selecting_rows.png)  "
   ]
  },
  {
   "cell_type": "markdown",
   "metadata": {},
   "source": [
    "## Security and injection attacks\n",
    "\n",
    "So far, we have been using Python's string formatting method to insert\n",
    "parameters like table and column names into the `c.execute()` functions. This\n",
    "is fine if we just want to use the database for ourselves. However, this\n",
    "leaves our database vulnerable to injection attacks. For example, if our\n",
    "database would be part of a web application, it would allow hackers to\n",
    "directly communicate with the database in order to bypass login and password\n",
    "verification and steal data.  \n",
    "In order to prevent this, it is recommended to use `?` place holders in the\n",
    "SQLite commands instead of the `%` formatting expression or the `.format()`\n",
    "method, which we have been using in this tutorial.  \n",
    "For example, instead of using\n",
    "\n",
    "    \n",
    "    \n",
    "    # 5) Check if a certain ID exists and print its column contents\n",
    "    c.execute(\"SELECT * FROM {tn} WHERE {idf}={my_id}\".\\\n",
    "            format(tn=table_name, cn=column_2, idf=id_column, my_id=some_id))\n",
    "    \n",
    "\n",
    "in the Querying the database - Selecting rows section above, we would want to\n",
    "use the `?` placeholder for the queried column value and include the\n",
    "variable(s) (here: `123456`), which we want to insert, as tuple at the end of\n",
    "the `c.execute()` string.\n",
    "\n",
    "    \n",
    "    \n",
    "    # 5) Check if a certain ID exists and print its column contents\n",
    "    c.execute(\"SELECT * FROM {tn} WHERE {idf}=?\".\\\n",
    "            format(tn=table_name, cn=column_2, idf=id_column), (123456,))   \n",
    "    \n",
    "\n",
    "However, the problem with this approach is that it would only work for values,\n",
    "not for column or table names. So what are we supposed to do with the rest of\n",
    "the string if we want to protect ourselves from injection attacks? The easy\n",
    "solution would be to refrain from using variables in SQLite queries whenever\n",
    "possible, and if it cannot be avoided, we would want to use a function that\n",
    "strips all non-alphanumerical characters from the stored content of the\n",
    "variable, e.g.,\n",
    "\n",
    "    \n",
    "    \n",
    "    def clean_name(some_var):\n",
    "        return ''.join(char for char in some_var if char.isalnum())\n",
    "    "
   ]
  },
  {
   "cell_type": "markdown",
   "metadata": {},
   "source": [
    "## Date and time operations\n",
    "\n",
    "SQLite inherited the convenient date and time operations from SQL, which are\n",
    "one of my favorite features of the Structured Query Language: It does not only\n",
    "allow us to insert dates and times in various different formats, but we can\n",
    "also perform simple `+` and `-` arithmetic, for example to look up entries\n",
    "that have been added xxx days ago.\n"
   ]
  },
  {
   "cell_type": "code",
   "execution_count": 26,
   "metadata": {},
   "outputs": [
    {
     "name": "stdout",
     "output_type": "stream",
     "text": [
      "4) all entries between ~2017 - 2018: [('some_id1',)]\n",
      "5) entries older than 1 day: []\n"
     ]
    }
   ],
   "source": [
    "import sqlite3\n",
    "\n",
    "sqlite_file = 'my_first_db.sqlite'    # name of the sqlite database file\n",
    "table_name = 'my_table_3'   # name of the table to be created\n",
    "id_field = 'id' # name of the ID column\n",
    "date_col = 'date' # name of the date column\n",
    "time_col = 'time'# name of the time column\n",
    "date_time_col = 'date_time' # name of the date & time column\n",
    "field_type = 'TEXT'  # column data type\n",
    "\n",
    "# Connecting to the database file\n",
    "conn = sqlite3.connect(sqlite_file)\n",
    "c = conn.cursor()\n",
    "\n",
    "# Creating a new SQLite table with 1 column\n",
    "c.execute('CREATE TABLE {tn} ({fn} {ft} PRIMARY KEY)'\\\n",
    "        .format(tn=table_name, fn=id_field, ft=field_type))\n",
    "\n",
    "# A) Adding a new column to save date insert a row with the current date \n",
    "# in the following format: YYYY-MM-DD\n",
    "# e.g., 2017-03-06\n",
    "c.execute(\"ALTER TABLE {tn} ADD COLUMN '{cn}'\"\\\n",
    "         .format(tn=table_name, cn=date_col))\n",
    "# insert a new row with the current date and time, e.g., 2017-03-06\n",
    "c.execute(\"INSERT INTO {tn} ({idf}, {cn}) VALUES('some_id1', DATE('now'))\"\\\n",
    "         .format(tn=table_name, idf=id_field, cn=date_col))\n",
    "\n",
    "# B) Adding a new column to save date and time and update with the current time\n",
    "# in the following format: HH:MM:SS\n",
    "# e.g., 16:26:37\n",
    "c.execute(\"ALTER TABLE {tn} ADD COLUMN '{cn}'\"\\\n",
    "         .format(tn=table_name, cn=time_col))\n",
    "# update row for the new current date and time column, e.g., 2014-03-06 16:26:37\n",
    "c.execute(\"UPDATE {tn} SET {cn}=TIME('now') WHERE {idf}='some_id1'\"\\\n",
    "         .format(tn=table_name, idf=id_field, cn=time_col))\n",
    "\n",
    "# C) Adding a new column to save date and time and update with current date-time\n",
    "# in the following format: YYYY-MM-DD HH:MM:SS\n",
    "# e.g., 2014-03-06 16:26:37\n",
    "c.execute(\"ALTER TABLE {tn} ADD COLUMN '{cn}'\"\\\n",
    "         .format(tn=table_name, cn=date_time_col))\n",
    "# update row for the new current date and time column, e.g., 2017-03-06 16:26:37\n",
    "c.execute(\"UPDATE {tn} SET {cn}=(CURRENT_TIMESTAMP) WHERE {idf}='some_id1'\"\\\n",
    "         .format(tn=table_name, idf=id_field, cn=date_time_col))\n",
    "\n",
    "# The database should now look like this:\n",
    "# id         date           time        date_time\n",
    "# \"some_id1\" \"2017-03-06\"   \"16:42:30\"  \"2017-03-06 16:42:30\"\n",
    "\n",
    "# 4) Retrieve all IDs of entries between 2 date_times\n",
    "c.execute(\"SELECT {idf} FROM {tn} WHERE {cn} BETWEEN '2017-03-06 10:10:10' AND '2018-03-06 10:10:10'\".\\\n",
    "    format(idf=id_field, tn=table_name, cn=date_time_col))\n",
    "all_date_times = c.fetchall()\n",
    "print('4) all entries between ~2017 - 2018:', all_date_times)\n",
    "\n",
    "# 5) Retrieve all IDs of entries between that are older than 1 day and 12 hrs\n",
    "c.execute(\"SELECT {idf} FROM {tn} WHERE DATE('now') - {dc} >= 1 AND DATE('now') - {tc} >= 12\".\\\n",
    "    format(idf=id_field, tn=table_name, dc=date_col, tc=time_col))\n",
    "all_1day12hrs_entries = c.fetchall()\n",
    "print('5) entries older than 1 day:', all_1day12hrs_entries)\n",
    "\n",
    "# Committing changes and closing the connection to the database file\n",
    "conn.commit()\n",
    "conn.close()"
   ]
  },
  {
   "cell_type": "markdown",
   "metadata": {},
   "source": [
    "![5_sqlite3_date_time.png](./images/5_sqlite3_date_time.png)  \n",
    "  \n",
    "Some of the really convenient functions that return the current time and date\n",
    "are:\n",
    "\n",
    "    DATE('now') # returns current date, e.g., 2017-03-06\n",
    "    TIME('now') # returns current time, e.g., 10:10:10\n",
    "    CURRENT_TIMESTAMP # returns current date and time, e.g., 2017-03-06 16:42:30\n",
    "    #  (or alternatively: DATETIME('now'))"
   ]
  },
  {
   "cell_type": "markdown",
   "metadata": {},
   "source": [
    "The screenshot below shows the print outputs of the code that we used to query\n",
    "for entries that lie between a specified date interval using\n",
    "\n",
    "    \n",
    "    \n",
    "    BETWEEN '2017-03-06 10:10:10' AND '2018-03-06 10:10:10'\n",
    "    \n",
    "\n",
    "and entries that are older than 1 day via\n",
    "\n",
    "    \n",
    "    \n",
    "    WHERE DATE('now') - some_date\n",
    "    \n",
    "\n",
    "Note that we don't have to provide the complete time stamps here, the same\n",
    "syntax applies to simple dates or simple times only, too.  \n",
    "  \n",
    "![5_sqlite3_date_time_2.png](./images/5_sqlite3_date_time_2.png)  "
   ]
  },
  {
   "cell_type": "markdown",
   "metadata": {},
   "source": [
    "If'd we are interested to calulate the hours between two `DATETIME()`\n",
    "timestamps, we can could use the handy `STRFTIME()` function like this  \n",
    "  \n",
    "\n",
    "    \n",
    "    \n",
    "    SELECT (STRFTIME('%s','2017-03-14 14:51:00') - STRFTIME('%s','2017-03-16 14:51:00'))  \n",
    "     / -3600\n",
    "    \n",
    "\n",
    "  \n",
    "which would calculate the difference in hours between two dates in this\n",
    "particular example above (here: `48`) in this case.  \n",
    "And to calculate the difference in hours between the current `DATETIME` and a\n",
    "given `DATETIME` string, we could use the following SQLite syntax:  \n",
    "  \n",
    "\n",
    "    \n",
    "    \n",
    "    SELECT (STRFTIME('%s',DATETIME('now')) - STRFTIME('%s','2017-03-15 14:51:00')) / 3600"
   ]
  },
  {
   "cell_type": "markdown",
   "metadata": {},
   "source": [
    "## Retrieving column names\n",
    "\n",
    "In the previous two sections we have seen how we query SQLite databases for\n",
    "data contents. Now let us have a look at how we retrieve its metadata (here:\n",
    "column names):"
   ]
  },
  {
   "cell_type": "code",
   "execution_count": 27,
   "metadata": {},
   "outputs": [
    {
     "name": "stdout",
     "output_type": "stream",
     "text": [
      "['id', 'date', 'time', 'date_time']\n"
     ]
    }
   ],
   "source": [
    "import sqlite3\n",
    "\n",
    "sqlite_file = 'my_first_db.sqlite'\n",
    "table_name = 'my_table_3'\n",
    "\n",
    "# Connecting to the database file\n",
    "conn = sqlite3.connect(sqlite_file)\n",
    "c = conn.cursor()\n",
    "\n",
    "# Retrieve column information\n",
    "# Every column will be represented by a tuple with the following attributes:\n",
    "# (id, name, type, notnull, default_value, primary_key)\n",
    "c.execute('PRAGMA TABLE_INFO({})'.format(table_name))\n",
    "\n",
    "# collect names in a list\n",
    "names = [tup[1] for tup in c.fetchall()]\n",
    "print(names)\n",
    "# e.g., ['id', 'date', 'time', 'date_time']\n",
    "\n",
    "# Closing the connection to the database file\n",
    "conn.close()"
   ]
  },
  {
   "cell_type": "markdown",
   "metadata": {},
   "source": [
    "![7_sqlite3_get_colnames_1.png](./images/7_sqlite3_get_colnames_1.png)  \n",
    "\n",
    "Since we haven't created a PRIMARY KEY column for `my_table_3`, SQLite\n",
    "automatically provides an indexed `rowid` column with unique ascending integer\n",
    "values, which will be ignored in our case. Using the `PRAGMA TABLE_INFO()`\n",
    "function on our table, we return a list of tuples, where each tuple contains\n",
    "the following information about every column in the table: `(id, name, type,\n",
    "notnull, default_value, primary_key)`.  \n",
    "So, in order to get the names of every column in our table, we only have to\n",
    "grab the 2nd value in each tuple of the returned list, which can be done by\n",
    "    \n",
    "    \n",
    "    names = [tup[1] for tup in c.fetchall()]\n",
    "\n",
    "after the `PRAGMA TABLE_INFO()` call. If we would print the contents of the\n",
    "variable `names` now, the output would look like this:  \n",
    "  \n",
    "![7_sqlite3_get_colnames_2.png](./images/7_sqlite3_get_colnames_2.png)  "
   ]
  },
  {
   "cell_type": "markdown",
   "metadata": {},
   "source": [
    "## Printing a database summary\n",
    "\n",
    "I hope we covered most of the basics about SQLite database operations in the\n",
    "previous sections, and by now we should be well equipped to get some serious\n",
    "work done using SQLite in Python.  \n",
    "\n",
    "Let me conclude this tutorial with an obligatory \"last but not least\" and a\n",
    "convenient script to print a nice overview of SQLite database tables:"
   ]
  },
  {
   "cell_type": "code",
   "execution_count": 28,
   "metadata": {},
   "outputs": [
    {
     "name": "stdout",
     "output_type": "stream",
     "text": [
      "\n",
      "Total rows: 1\n",
      "\n",
      "Column Info:\n",
      "ID, Name, Type, NotNull, DefaultVal, PrimaryKey\n",
      "(0, 'id', 'TEXT', 0, None, 1)\n",
      "(1, 'date', '', 0, None, 0)\n",
      "(2, 'time', '', 0, None, 0)\n",
      "(3, 'date_time', '', 0, None, 0)\n",
      "\n",
      "Number of entries per column:\n",
      "time: 1\n",
      "date: 1\n",
      "date_time: 1\n",
      "id: 1\n"
     ]
    }
   ],
   "source": [
    "import sqlite3\n",
    "\n",
    "def connect(sqlite_file):\n",
    "    \"\"\" Make connection to an SQLite database file \"\"\"\n",
    "    conn = sqlite3.connect(sqlite_file)\n",
    "    c = conn.cursor()\n",
    "    return conn, c\n",
    "\n",
    "def close(conn):\n",
    "    \"\"\" Commit changes and close connection to the database \"\"\"\n",
    "    # conn.commit()\n",
    "    conn.close()\n",
    "\n",
    "def total_rows(cursor, table_name, print_out=False):\n",
    "    \"\"\" Returns the total number of rows in the database \"\"\"\n",
    "    c.execute('SELECT COUNT(*) FROM {}'.format(table_name))\n",
    "    count = c.fetchall()\n",
    "    if print_out:\n",
    "        print('\\nTotal rows: {}'.format(count[0][0]))\n",
    "    return count[0][0]\n",
    "\n",
    "def table_col_info(cursor, table_name, print_out=False):\n",
    "    \"\"\" \n",
    "       Returns a list of tuples with column informations:\n",
    "      (id, name, type, notnull, default_value, primary_key)\n",
    "\n",
    "    \"\"\"\n",
    "    c.execute('PRAGMA TABLE_INFO({})'.format(table_name))\n",
    "    info = c.fetchall()\n",
    "\n",
    "    if print_out:\n",
    "        print(\"\\nColumn Info:\\nID, Name, Type, NotNull, DefaultVal, PrimaryKey\")\n",
    "        for col in info:\n",
    "            print(col)\n",
    "    return info\n",
    "\n",
    "def values_in_col(cursor, table_name, print_out=True):\n",
    "    \"\"\" Returns a dictionary with columns as keys and the number of not-null \n",
    "        entries as associated values.\n",
    "    \"\"\"\n",
    "    c.execute('PRAGMA TABLE_INFO({})'.format(table_name))\n",
    "    info = c.fetchall()\n",
    "    col_dict = dict()\n",
    "    for col in info:\n",
    "        col_dict[col[1]] = 0\n",
    "    for col in col_dict:\n",
    "        c.execute('SELECT ({0}) FROM {1} WHERE {0} IS NOT NULL'.format(col, table_name))\n",
    "        # In my case this approach resulted in a better performance than using COUNT\n",
    "        number_rows = len(c.fetchall())\n",
    "        col_dict[col] = number_rows\n",
    "    if print_out:\n",
    "        print(\"\\nNumber of entries per column:\")\n",
    "        for i in col_dict.items():\n",
    "            print('{}: {}'.format(i[0], i[1]))\n",
    "    return col_dict\n",
    "\n",
    "\n",
    "if __name__ == '__main__':\n",
    "\n",
    "    sqlite_file = 'my_first_db.sqlite'\n",
    "    table_name = 'my_table_3'\n",
    "\n",
    "    conn, c = connect(sqlite_file)\n",
    "    total_rows(c, table_name, print_out=True)\n",
    "    table_col_info(c, table_name, print_out=True)\n",
    "    values_in_col(c, table_name, print_out=True) # slow on large data bases\n",
    "\n",
    "    close(conn)\n"
   ]
  },
  {
   "cell_type": "markdown",
   "metadata": {},
   "source": [
    "![8_sqlite3_print_db_info_1.png](./images/8_sqlite3_print_db_info_1.png)  \n",
    "  \n",
    "![8_sqlite3_print_db_info_2.png](./images/8_sqlite3_print_db_info_2.png)"
   ]
  },
  {
   "cell_type": "code",
   "execution_count": null,
   "metadata": {
    "collapsed": true
   },
   "outputs": [],
   "source": []
  }
 ],
 "metadata": {
  "anaconda-cloud": {},
  "kernelspec": {
   "display_name": "Python 3",
   "language": "python",
   "name": "python3"
  },
  "language_info": {
   "codemirror_mode": {
    "name": "ipython",
    "version": 3
   },
   "file_extension": ".py",
   "mimetype": "text/x-python",
   "name": "python",
   "nbconvert_exporter": "python",
   "pygments_lexer": "ipython3",
   "version": "3.6.3"
  }
 },
 "nbformat": 4,
 "nbformat_minor": 1
}
