{
 "cells": [
  {
   "cell_type": "markdown",
   "metadata": {},
   "source": [
    "# Introduction to Computing with Python"
   ]
  },
  {
   "cell_type": "markdown",
   "metadata": {},
   "source": [
    "-----------------"
   ]
  },
  {
   "cell_type": "markdown",
   "metadata": {},
   "source": [
    "# Course structure\n",
    "\n",
    "Computing is best learned by doing, and seeking help when you need it. To help you develop computing skills, \n",
    "this course involves 12 self-study, interactive Jupyter notebook 'activities', with exercises at the end of each\n",
    "activity. The activity notebooks cover:\n",
    "\n",
    "1. [Variables, assignment and operator precedence](01_Variables.ipynb)\n",
    "1. [Control statements](02_Control.ipynb)\n",
    "1. [Types, type conversions and floating point arithmetic](03_Types.ipynb)\n",
    "1. [Functions](04_Functions.ipynb)\n",
    "1. [Library functions](05_Library.ipynb)\n",
    "1. [Data structures](06_Data.ipynb)\n",
    "1. [Numerical computation](07_Numerical.ipynb)\n",
    "1. [Plotting](08_Plotting.ipynb)\n",
    "1. [Error handling and testing](09_Errors.ipynb)\n",
    "1. [Algorithms](10_Algorithms.ipynb)\n",
    "1. [Complexity](11_Complexity.ipynb)\n",
    "1. [Object-oriented design](12_OOP.ipynb)\n",
    "\n",
    "How to use and execute the notebooks, and how to develop your own notebooks is described further down.\n",
    "\n",
    "The notebooks are designed to be completed in order.\n",
    "\n",
    "- Read through a notebook, and change parts of the programs if you want to experiment with what \n",
    "  happens - this will help your understanding. \n",
    "- Complete the exercises at the end before moving onto the next activity.\n",
    "\n",
    "As you move through the activities you might need to revise some of the earlier notebooks."
   ]
  },
  {
   "cell_type": "markdown",
   "metadata": {},
   "source": [
    "# Completing exercises\n",
    "\n",
    "For each activity, you need to complete the exercises at the end of the notebook. To do this:\n",
    "\n",
    "- Create a new notebook for each Activity.\n",
    "- Use Markdown cells, and where appropriate add equations using LaTeX, to describe what your program is doing.\n",
    "- For longer exercises, break your program into multiple cells, with descriptions in  \n",
    "  Markdown before cells with code."
   ]
  },
  {
   "cell_type": "markdown",
   "metadata": {},
   "source": [
    "# Getting help\n",
    "\n",
    "There are two primary support mechanisms:\n",
    "\n",
    "1. *Online Search.* \n",
    "   This should be the first place you look for help. Type the issue or question you have on Google or Stack Overflow and see if anyone else has solved or answered it.\n",
    "\n",
    "2. *The Slack Channel.* \n",
    "   If you were unable to find an answer to your issue, explain your approach and paste a code snippet in Slack. Teaching assistants and potentially other students will give advice on how to tackle the problem you are facing.\n",
    "   \n",
    "3. *Weekly Office Hours.* At these sessions you can\n",
    "   get help from a teaching assistant. It is *expected* that you have attempted a problem before attending a support\n",
    "   session. The purpose of the session is to help; it is not a scheduled time for completing the exercises.   "
   ]
  },
  {
   "cell_type": "markdown",
   "metadata": {},
   "source": [
    "# Jupyter notebooks\n",
    "\n",
    "This is a Jupyter Notebook. We will be computing using Jupyter Notebooks (http://jupyter.org/) and \n",
    "the programming language Python (https://www.python.org/).\n",
    "Jupyter Notebooks  provide an interactive environment where you can mix text, equations, programming\n",
    "and visual outputs. This is new technology that is increasingly widely used, and it is all open-source. \n",
    "You will find Jupyter Notebooks useful throughout the course."
   ]
  },
  {
   "cell_type": "markdown",
   "metadata": {},
   "source": [
    "## Using notebooks\n",
    "\n",
    "See the notebook [Using notebooks](Using_notebooks.ipynb)."
   ]
  },
  {
   "cell_type": "markdown",
   "metadata": {},
   "source": [
    "## Notebook tips\n",
    "\n",
    "See the notebook [Notebook tips](Notebook_tips.ipynb)."
   ]
  },
  {
   "cell_type": "markdown",
   "metadata": {},
   "source": [
    "## Python version\n",
    "\n",
    "We will be using exclusively Python 3. There are some subtle differences between Python 2 and Python 3. Bear this in mind if using a book or searching online. Most books still use Python 2 syntax."
   ]
  }
 ],
 "metadata": {
  "anaconda-cloud": {},
  "kernelspec": {
   "display_name": "Python 3",
   "language": "python",
   "name": "python3"
  },
  "language_info": {
   "codemirror_mode": {
    "name": "ipython",
    "version": 3
   },
   "file_extension": ".py",
   "mimetype": "text/x-python",
   "name": "python",
   "nbconvert_exporter": "python",
   "pygments_lexer": "ipython3",
   "version": "3.6.3"
  }
 },
 "nbformat": 4,
 "nbformat_minor": 1
}
